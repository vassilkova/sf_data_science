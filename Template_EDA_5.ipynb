{
 "cells": [
  {
   "cell_type": "markdown",
   "id": "c8a6af25-08d3-487a-bd90-001772ac9161",
   "metadata": {},
   "source": [
    "## <center> **Анализ результатов A/B-тестирования**"
   ]
  },
  {
   "cell_type": "markdown",
   "id": "d7d45571-6545-4904-a86b-9b3b6b8163d3",
   "metadata": {},
   "source": [
    "Компания планирует запустить новую акцию, чтобы продать как можно больше туров. Команда разработала два варианта посадочной страницы официального сайта компании и провела A/B-тестирование. Собранные в результате проведения эксперимента данные вы можете найти здесь.\n",
    "\n",
    "Вам предстоит решить настоящую бизнес-задачу: проанализировать эффективность обоих вариантов посадочной страницы сразу по двум критериям: конверсии покупки и среднему чеку. На основе проведенного анализа вам будет необходимо сделать выводы и принять решение: какой из вариантов дизайна более предпочтительный.\n",
    "\n",
    "Итак, наша фирма предлагает следующие варианты туров и их соответствующие стоимости:\n",
    "* Таиланд — 100000 рублей;\n",
    "* Турция — 60000 рублей;\n",
    "* Мальдивы — 200000 рублей;\n",
    "* Санкт-Петербург — 10000 рублей;\n",
    "* Камчатка — 150000 рублей."
   ]
  },
  {
   "cell_type": "code",
   "execution_count": 107,
   "id": "a974b482-e192-4014-8520-8a5c0c946da6",
   "metadata": {},
   "outputs": [],
   "source": [
    "import pandas as pd\n",
    "import matplotlib.pyplot as plt\n",
    "import seaborn as sns\n",
    "from scipy.stats import norm\n",
    "from scipy.stats import t\n",
    "from scipy.stats import ttest_ind, shapiro, f_oneway, mannwhitneyu\n",
    "from statsmodels.stats.proportion import proportions_ztest"
   ]
  },
  {
   "cell_type": "markdown",
   "id": "55c84550-4162-4325-acc2-7d3c0aafe6f0",
   "metadata": {},
   "source": [
    "Прочитаем наши данные и посмотрим на столбцы таблицы:"
   ]
  },
  {
   "cell_type": "code",
   "execution_count": 108,
   "id": "b0d18245-b9da-44bd-8aea-d272ea74b63a",
   "metadata": {},
   "outputs": [
    {
     "data": {
      "text/html": [
       "<div>\n",
       "<style scoped>\n",
       "    .dataframe tbody tr th:only-of-type {\n",
       "        vertical-align: middle;\n",
       "    }\n",
       "\n",
       "    .dataframe tbody tr th {\n",
       "        vertical-align: top;\n",
       "    }\n",
       "\n",
       "    .dataframe thead th {\n",
       "        text-align: right;\n",
       "    }\n",
       "</style>\n",
       "<table border=\"1\" class=\"dataframe\">\n",
       "  <thead>\n",
       "    <tr style=\"text-align: right;\">\n",
       "      <th></th>\n",
       "      <th>user_id</th>\n",
       "      <th>date</th>\n",
       "      <th>group</th>\n",
       "      <th>purchase</th>\n",
       "      <th>price</th>\n",
       "    </tr>\n",
       "  </thead>\n",
       "  <tbody>\n",
       "    <tr>\n",
       "      <th>0</th>\n",
       "      <td>851104</td>\n",
       "      <td>2021-01-21</td>\n",
       "      <td>A</td>\n",
       "      <td>0</td>\n",
       "      <td>0</td>\n",
       "    </tr>\n",
       "    <tr>\n",
       "      <th>1</th>\n",
       "      <td>804228</td>\n",
       "      <td>2021-01-12</td>\n",
       "      <td>A</td>\n",
       "      <td>0</td>\n",
       "      <td>0</td>\n",
       "    </tr>\n",
       "    <tr>\n",
       "      <th>2</th>\n",
       "      <td>661590</td>\n",
       "      <td>2021-01-11</td>\n",
       "      <td>B</td>\n",
       "      <td>0</td>\n",
       "      <td>0</td>\n",
       "    </tr>\n",
       "    <tr>\n",
       "      <th>3</th>\n",
       "      <td>853541</td>\n",
       "      <td>2021-01-08</td>\n",
       "      <td>B</td>\n",
       "      <td>0</td>\n",
       "      <td>0</td>\n",
       "    </tr>\n",
       "    <tr>\n",
       "      <th>4</th>\n",
       "      <td>864975</td>\n",
       "      <td>2021-01-21</td>\n",
       "      <td>A</td>\n",
       "      <td>1</td>\n",
       "      <td>150000</td>\n",
       "    </tr>\n",
       "  </tbody>\n",
       "</table>\n",
       "</div>"
      ],
      "text/plain": [
       "   user_id        date group  purchase   price\n",
       "0   851104  2021-01-21     A         0       0\n",
       "1   804228  2021-01-12     A         0       0\n",
       "2   661590  2021-01-11     B         0       0\n",
       "3   853541  2021-01-08     B         0       0\n",
       "4   864975  2021-01-21     A         1  150000"
      ]
     },
     "execution_count": 108,
     "metadata": {},
     "output_type": "execute_result"
    }
   ],
   "source": [
    "data = pd.read_csv('ab_data_tourist.csv')\n",
    "data.head()"
   ]
  },
  {
   "cell_type": "markdown",
   "id": "2fc48225-26ac-49c4-b99d-8b2a03dd74a1",
   "metadata": {
    "tags": []
   },
   "source": [
    "## **Задание 7.1.**\n",
    "\n",
    "Начнем с исследования структуры наших данных. С помощью метода info() выведите информацию о типах данных и количестве непустых значений. Какой тип данных имеет столбец date?"
   ]
  },
  {
   "cell_type": "markdown",
   "id": "1548e18c",
   "metadata": {},
   "source": [
    "date имеет тип данных object"
   ]
  },
  {
   "cell_type": "code",
   "execution_count": 109,
   "id": "23496521-4878-46e2-ab02-1a98be14884a",
   "metadata": {},
   "outputs": [
    {
     "name": "stdout",
     "output_type": "stream",
     "text": [
      "<class 'pandas.core.frame.DataFrame'>\n",
      "RangeIndex: 294478 entries, 0 to 294477\n",
      "Data columns (total 5 columns):\n",
      " #   Column    Non-Null Count   Dtype \n",
      "---  ------    --------------   ----- \n",
      " 0   user_id   294478 non-null  int64 \n",
      " 1   date      294478 non-null  object\n",
      " 2   group     294478 non-null  object\n",
      " 3   purchase  294478 non-null  int64 \n",
      " 4   price     294478 non-null  int64 \n",
      "dtypes: int64(3), object(2)\n",
      "memory usage: 11.2+ MB\n"
     ]
    }
   ],
   "source": [
    "# ваш код здесь\n",
    "data.info()"
   ]
  },
  {
   "cell_type": "markdown",
   "id": "946d017d-b4fe-4a17-b91d-0ce369d1ab2e",
   "metadata": {
    "tags": []
   },
   "source": [
    "## **Задание 7.2.**\n",
    "\n",
    "Приведите столбец date к типу данных datetime. Убедитесь в равной длительности проведения тестирования для каждой из группы. Для этого сгруппируйте данные по признаку группы и определите первую и последнюю дату наблюдения для каждой из групп. \n",
    "\n",
    "В какой промежуток времени проводился A/B-тест?\n"
   ]
  },
  {
   "cell_type": "code",
   "execution_count": 110,
   "id": "604c619d-6338-45c8-8248-ac098a2366bb",
   "metadata": {},
   "outputs": [
    {
     "name": "stdout",
     "output_type": "stream",
     "text": [
      "<class 'pandas.core.frame.DataFrame'>\n",
      "RangeIndex: 294478 entries, 0 to 294477\n",
      "Data columns (total 5 columns):\n",
      " #   Column    Non-Null Count   Dtype         \n",
      "---  ------    --------------   -----         \n",
      " 0   user_id   294478 non-null  int64         \n",
      " 1   date      294478 non-null  datetime64[ns]\n",
      " 2   group     294478 non-null  object        \n",
      " 3   purchase  294478 non-null  int64         \n",
      " 4   price     294478 non-null  int64         \n",
      "dtypes: datetime64[ns](1), int64(3), object(1)\n",
      "memory usage: 11.2+ MB\n"
     ]
    }
   ],
   "source": [
    "# ваш код здесь\n",
    "data['date']=pd.to_datetime(data['date'])\n",
    "data.info()"
   ]
  },
  {
   "cell_type": "code",
   "execution_count": 111,
   "id": "c78ee4f6",
   "metadata": {},
   "outputs": [
    {
     "name": "stdout",
     "output_type": "stream",
     "text": [
      "group\n",
      "A   2021-01-02\n",
      "B   2021-01-02\n",
      "Name: date, dtype: datetime64[ns] group\n",
      "A   2021-01-24\n",
      "B   2021-01-24\n",
      "Name: date, dtype: datetime64[ns]\n"
     ]
    }
   ],
   "source": [
    "data_min = data.groupby('group')['date'].min()\n",
    "data_max = data.groupby('group')['date'].max()\n",
    "print(data_min,data_max)"
   ]
  },
  {
   "cell_type": "code",
   "execution_count": 112,
   "id": "ae116698",
   "metadata": {},
   "outputs": [
    {
     "data": {
      "text/plain": [
       "group\n",
       "A    147202\n",
       "B    147276\n",
       "Name: user_id, dtype: int64"
      ]
     },
     "execution_count": 112,
     "metadata": {},
     "output_type": "execute_result"
    }
   ],
   "source": [
    "data.groupby('group')['user_id'].count()"
   ]
  },
  {
   "cell_type": "code",
   "execution_count": 113,
   "id": "d9f4a4c4",
   "metadata": {},
   "outputs": [
    {
     "data": {
      "text/plain": [
       "group\n",
       "A    17723\n",
       "B    17514\n",
       "Name: purchase, dtype: int64"
      ]
     },
     "execution_count": 113,
     "metadata": {},
     "output_type": "execute_result"
    }
   ],
   "source": [
    "data.groupby('group')['purchase'].sum()"
   ]
  },
  {
   "cell_type": "code",
   "execution_count": 114,
   "id": "90bd08a6",
   "metadata": {},
   "outputs": [
    {
     "data": {
      "text/plain": [
       "group\n",
       "A    1436.26\n",
       "B    1554.10\n",
       "Name: price, dtype: float64"
      ]
     },
     "execution_count": 114,
     "metadata": {},
     "output_type": "execute_result"
    }
   ],
   "source": [
    "data.groupby('group')['price'].sum()/1000000"
   ]
  },
  {
   "cell_type": "markdown",
   "id": "e04eb341-52ae-48b3-9dc2-0578ca91641a",
   "metadata": {},
   "source": [
    "## **Задание 7.3.**\n",
    "\n",
    "* Чему равно количество посещений сайта в группах А и B?\n",
    "\n",
    "* Чему равно суммарное количество покупок в группах А и B?\n",
    "\n",
    "* Чему равна сумма всех покупок в группах А и B? Ответ приведите в миллионах рублей. Например, 185.52 млн. руб."
   ]
  },
  {
   "cell_type": "code",
   "execution_count": 115,
   "id": "02bf0148-488e-4f34-95bf-37794b2fa98b",
   "metadata": {},
   "outputs": [
    {
     "name": "stdout",
     "output_type": "stream",
     "text": [
      "294478 количество посетителей\n",
      "35237 количество покупок\n",
      "2990.36 млн руб\n"
     ]
    }
   ],
   "source": [
    "# ваш код здесь\n",
    "print(data['user_id'].count(),\"количество посетителей\")\n",
    "print(data['purchase'].sum(), \"количество покупок\")\n",
    "print(data['price'].sum()/1000000,\"млн руб\")"
   ]
  },
  {
   "cell_type": "markdown",
   "id": "2434db1b-17e6-4977-8e54-1df875c6f221",
   "metadata": {
    "tags": []
   },
   "source": [
    "## **Задание 7.4.**\n",
    "\n",
    "Проверьте, есть ли пользователи, которые в процессе A/B-теста попали в обе тестовые группы? Если да, то сколько таких уникальных пользователей, если нет - введите в поле для ответа 0?\n",
    "\n",
    "**Подсказка:**\n",
    "\n",
    "*Создайте множество пользователей группы А и множество пользователей группы B. Пересеките два этих множества (операция intersection) и вычислите количество элементов в полученном множестве.*\n"
   ]
  },
  {
   "cell_type": "code",
   "execution_count": 116,
   "id": "57a2d711-057d-4f8b-9f56-df0f772d41c8",
   "metadata": {},
   "outputs": [
    {
     "data": {
      "text/plain": [
       "1895"
      ]
     },
     "execution_count": 116,
     "metadata": {},
     "output_type": "execute_result"
    }
   ],
   "source": [
    "# ваш код здесь\n",
    "A=set(data[data['group']=='A']['user_id'])\n",
    "B=set(data[data['group']=='B']['user_id'])\n",
    "\n",
    "user_intersection = A.intersection(B) \n",
    "\n",
    "len(user_intersection)"
   ]
  },
  {
   "cell_type": "markdown",
   "id": "118b1904-7d7a-4935-825e-535da45c611b",
   "metadata": {
    "tags": []
   },
   "source": [
    "## **Исключите пользователей, оказавшихся в обеих группах**\n",
    "\n",
    "Так как мы не можем определить, какая из версий сайта повлияла на принятие решения, исключим этих пользователей. Далее мы будем работать только с очищенными от пересечений данными.\n",
    "\n",
    "Возможный вариант исключения пользователей:"
   ]
  },
  {
   "cell_type": "code",
   "execution_count": 117,
   "id": "f618b34b-35a3-4bf1-8d6d-38b3401930b7",
   "metadata": {},
   "outputs": [],
   "source": [
    "updated_data = data[data['user_id'].apply(lambda x: x not in user_intersection)]"
   ]
  },
  {
   "cell_type": "markdown",
   "id": "2bce6c9a-6580-4250-b280-204d40d20da2",
   "metadata": {},
   "source": [
    "Где user_intersection - множество пересечений пользователей групп А и B."
   ]
  },
  {
   "attachments": {
    "95f235d2-6323-4799-bf69-697fc57f727b.png": {
     "image/png": "[encoded data removed]"
    }
   },
   "cell_type": "markdown",
   "id": "2ddf6b2c-7987-41f3-82b1-8992630ae97b",
   "metadata": {
    "tags": []
   },
   "source": [
    "## **Задание 7.5.**\n",
    "\n",
    "Для первичного анализа результатов A/B-тестирования нам понадобится таблица следующего вида:\n",
    "\n",
    "![image.png](attachment:95f235d2-6323-4799-bf69-697fc57f727b.png)\n",
    " \n",
    " \n",
    "Для того, чтобы получить такую таблицу, сгруппируйте данные по признаку группы. В каждой группе рассчитайте следующие показатели:\n",
    "* количество посещений (количество пользователей)\n",
    "* количество совершенных покупок\n",
    "* сумма всех покупок в группе\n",
    "\n",
    "В полученной сгруппированной таблице переименуйте столбцы на **count_visits, count_purchases и sum_price**.\n",
    "\n",
    "**Подсказка:**\n",
    "\n",
    "*Для переименования столбцов можно использовать метод rename() с параметром columns, в который передается словарь. Ключи этого словаря - старые имена столбцов, а значения - новые.*\n",
    "\n",
    "Чему на этот раз равно количество посещений сайта в группах А и B?\n"
   ]
  },
  {
   "cell_type": "code",
   "execution_count": 118,
   "id": "5c0c018e-a250-48e9-b72a-e3c7be586ebd",
   "metadata": {},
   "outputs": [
    {
     "data": {
      "text/html": [
       "<div>\n",
       "<style scoped>\n",
       "    .dataframe tbody tr th:only-of-type {\n",
       "        vertical-align: middle;\n",
       "    }\n",
       "\n",
       "    .dataframe tbody tr th {\n",
       "        vertical-align: top;\n",
       "    }\n",
       "\n",
       "    .dataframe thead th {\n",
       "        text-align: right;\n",
       "    }\n",
       "</style>\n",
       "<table border=\"1\" class=\"dataframe\">\n",
       "  <thead>\n",
       "    <tr style=\"text-align: right;\">\n",
       "      <th></th>\n",
       "      <th>group</th>\n",
       "      <th>count_visits</th>\n",
       "      <th>count_purchases</th>\n",
       "      <th>sum_price</th>\n",
       "    </tr>\n",
       "  </thead>\n",
       "  <tbody>\n",
       "    <tr>\n",
       "      <th>0</th>\n",
       "      <td>A</td>\n",
       "      <td>145307</td>\n",
       "      <td>17487</td>\n",
       "      <td>1417780000</td>\n",
       "    </tr>\n",
       "    <tr>\n",
       "      <th>1</th>\n",
       "      <td>B</td>\n",
       "      <td>145381</td>\n",
       "      <td>17290</td>\n",
       "      <td>1533010000</td>\n",
       "    </tr>\n",
       "  </tbody>\n",
       "</table>\n",
       "</div>"
      ],
      "text/plain": [
       "  group  count_visits  count_purchases   sum_price\n",
       "0     A        145307            17487  1417780000\n",
       "1     B        145381            17290  1533010000"
      ]
     },
     "execution_count": 118,
     "metadata": {},
     "output_type": "execute_result"
    }
   ],
   "source": [
    "# ваш код здесь\n",
    "\n",
    "data2=updated_data.groupby('group', as_index=False).agg(\n",
    "    count_visits=('purchase','count'),\n",
    "    count_purchases=('purchase','sum'),\n",
    "    sum_price=('price','sum'),\n",
    ")\n",
    "data2"
   ]
  },
  {
   "cell_type": "markdown",
   "id": "b71e1390-9846-4a8e-b357-f82b847d1952",
   "metadata": {},
   "source": [
    "Приведите промежуточные выводы по построенной таблице. Сопоставимо ли количество посещений обоих вариантов посадочной странице, можно ли говорить о сбалансированности выборок?"
   ]
  },
  {
   "cell_type": "markdown",
   "id": "d3ad2231",
   "metadata": {},
   "source": [
    "Количество посещений в обоих группах потчи одинаково, выборки сбалансирваны."
   ]
  },
  {
   "cell_type": "markdown",
   "id": "4ea1b65b-475e-4bff-9460-fac0acdb9620",
   "metadata": {},
   "source": [
    "ваши выводы здесь"
   ]
  },
  {
   "cell_type": "markdown",
   "id": "afb2ee0a-31d1-45a5-be42-a2bf168b9448",
   "metadata": {
    "tags": []
   },
   "source": [
    "## **Задание 7.6.**\n",
    "\n",
    "Добавьте в сгруппированную таблицу столбцы conversion - конверсия покупки (отношение количества покупок к количеству посещений сайта в каждой группе, выраженное в процентах) и mean_check - средний чек (отношение суммы покупок к количеству покупок в каждой группе).\n",
    "\n",
    "* Чему равна конверсия в группах? Ответ приведите в процентах и округлите до сотых. Например, 75.12 %\n",
    "* Чему равен средний чек в группах? Ответ приведите в рублях и округлите до целых. Например, 120519 рублей."
   ]
  },
  {
   "cell_type": "code",
   "execution_count": 119,
   "id": "bd9c3b3e-5956-41a8-bae0-43693f6de1f2",
   "metadata": {},
   "outputs": [
    {
     "data": {
      "text/html": [
       "<div>\n",
       "<style scoped>\n",
       "    .dataframe tbody tr th:only-of-type {\n",
       "        vertical-align: middle;\n",
       "    }\n",
       "\n",
       "    .dataframe tbody tr th {\n",
       "        vertical-align: top;\n",
       "    }\n",
       "\n",
       "    .dataframe thead th {\n",
       "        text-align: right;\n",
       "    }\n",
       "</style>\n",
       "<table border=\"1\" class=\"dataframe\">\n",
       "  <thead>\n",
       "    <tr style=\"text-align: right;\">\n",
       "      <th></th>\n",
       "      <th>group</th>\n",
       "      <th>count_visits</th>\n",
       "      <th>count_purchases</th>\n",
       "      <th>sum_price</th>\n",
       "      <th>conversion</th>\n",
       "      <th>mean_check</th>\n",
       "    </tr>\n",
       "  </thead>\n",
       "  <tbody>\n",
       "    <tr>\n",
       "      <th>0</th>\n",
       "      <td>A</td>\n",
       "      <td>145307</td>\n",
       "      <td>17487</td>\n",
       "      <td>1417780000</td>\n",
       "      <td>12.034520</td>\n",
       "      <td>81076.228055</td>\n",
       "    </tr>\n",
       "    <tr>\n",
       "      <th>1</th>\n",
       "      <td>B</td>\n",
       "      <td>145381</td>\n",
       "      <td>17290</td>\n",
       "      <td>1533010000</td>\n",
       "      <td>11.892888</td>\n",
       "      <td>88664.545980</td>\n",
       "    </tr>\n",
       "  </tbody>\n",
       "</table>\n",
       "</div>"
      ],
      "text/plain": [
       "  group  count_visits  count_purchases   sum_price  conversion    mean_check\n",
       "0     A        145307            17487  1417780000   12.034520  81076.228055\n",
       "1     B        145381            17290  1533010000   11.892888  88664.545980"
      ]
     },
     "execution_count": 119,
     "metadata": {},
     "output_type": "execute_result"
    }
   ],
   "source": [
    "# ваш код здесь\n",
    "data2['conversion']=data2['count_purchases']/data2['count_visits']*100\n",
    "data2['mean_check']=data2['sum_price']/data2['count_purchases']\n",
    "data2"
   ]
  },
  {
   "cell_type": "markdown",
   "id": "1eb6e140-c702-43e0-b301-9914a7f49448",
   "metadata": {},
   "source": [
    "Приведите промежуточные выводы по таблице. По какому(им) показателю(ям) вариант А эффективнее варианта B и наоборот?"
   ]
  },
  {
   "cell_type": "markdown",
   "id": "9e88c883-84f9-44ec-accd-04d5d459b261",
   "metadata": {},
   "source": [
    "ваши выводы здесь"
   ]
  },
  {
   "cell_type": "markdown",
   "id": "4789e3ed",
   "metadata": {},
   "source": [
    "Несмотря на то, что конверсия у группы А выше, в группе В выше средний чек. Насколько это статически значимо не ясно."
   ]
  },
  {
   "cell_type": "markdown",
   "id": "7f9f1ae0-f12f-49b3-8b57-1c299c208c49",
   "metadata": {
    "tags": []
   },
   "source": [
    "## **Задание 7.7.**\n",
    "\n",
    "Теперь давайте сравним варианты по покупательской способности туров. Для этого постройте сводную таблицу, которая покажет зависимость количества продаж от группы и цены тура. "
   ]
  },
  {
   "cell_type": "code",
   "execution_count": 120,
   "id": "c3aba277",
   "metadata": {},
   "outputs": [
    {
     "data": {
      "text/html": [
       "<div>\n",
       "<style scoped>\n",
       "    .dataframe tbody tr th:only-of-type {\n",
       "        vertical-align: middle;\n",
       "    }\n",
       "\n",
       "    .dataframe tbody tr th {\n",
       "        vertical-align: top;\n",
       "    }\n",
       "\n",
       "    .dataframe thead th {\n",
       "        text-align: right;\n",
       "    }\n",
       "</style>\n",
       "<table border=\"1\" class=\"dataframe\">\n",
       "  <thead>\n",
       "    <tr style=\"text-align: right;\">\n",
       "      <th></th>\n",
       "      <th>user_id</th>\n",
       "      <th>date</th>\n",
       "      <th>group</th>\n",
       "      <th>purchase</th>\n",
       "      <th>price</th>\n",
       "    </tr>\n",
       "  </thead>\n",
       "  <tbody>\n",
       "    <tr>\n",
       "      <th>0</th>\n",
       "      <td>851104</td>\n",
       "      <td>2021-01-21</td>\n",
       "      <td>A</td>\n",
       "      <td>0</td>\n",
       "      <td>0</td>\n",
       "    </tr>\n",
       "    <tr>\n",
       "      <th>1</th>\n",
       "      <td>804228</td>\n",
       "      <td>2021-01-12</td>\n",
       "      <td>A</td>\n",
       "      <td>0</td>\n",
       "      <td>0</td>\n",
       "    </tr>\n",
       "    <tr>\n",
       "      <th>2</th>\n",
       "      <td>661590</td>\n",
       "      <td>2021-01-11</td>\n",
       "      <td>B</td>\n",
       "      <td>0</td>\n",
       "      <td>0</td>\n",
       "    </tr>\n",
       "    <tr>\n",
       "      <th>3</th>\n",
       "      <td>853541</td>\n",
       "      <td>2021-01-08</td>\n",
       "      <td>B</td>\n",
       "      <td>0</td>\n",
       "      <td>0</td>\n",
       "    </tr>\n",
       "    <tr>\n",
       "      <th>4</th>\n",
       "      <td>864975</td>\n",
       "      <td>2021-01-21</td>\n",
       "      <td>A</td>\n",
       "      <td>1</td>\n",
       "      <td>150000</td>\n",
       "    </tr>\n",
       "    <tr>\n",
       "      <th>...</th>\n",
       "      <td>...</td>\n",
       "      <td>...</td>\n",
       "      <td>...</td>\n",
       "      <td>...</td>\n",
       "      <td>...</td>\n",
       "    </tr>\n",
       "    <tr>\n",
       "      <th>294473</th>\n",
       "      <td>751197</td>\n",
       "      <td>2021-01-03</td>\n",
       "      <td>A</td>\n",
       "      <td>0</td>\n",
       "      <td>0</td>\n",
       "    </tr>\n",
       "    <tr>\n",
       "      <th>294474</th>\n",
       "      <td>945152</td>\n",
       "      <td>2021-01-12</td>\n",
       "      <td>A</td>\n",
       "      <td>0</td>\n",
       "      <td>0</td>\n",
       "    </tr>\n",
       "    <tr>\n",
       "      <th>294475</th>\n",
       "      <td>734608</td>\n",
       "      <td>2021-01-22</td>\n",
       "      <td>A</td>\n",
       "      <td>0</td>\n",
       "      <td>0</td>\n",
       "    </tr>\n",
       "    <tr>\n",
       "      <th>294476</th>\n",
       "      <td>697314</td>\n",
       "      <td>2021-01-15</td>\n",
       "      <td>A</td>\n",
       "      <td>0</td>\n",
       "      <td>0</td>\n",
       "    </tr>\n",
       "    <tr>\n",
       "      <th>294477</th>\n",
       "      <td>715931</td>\n",
       "      <td>2021-01-16</td>\n",
       "      <td>B</td>\n",
       "      <td>0</td>\n",
       "      <td>0</td>\n",
       "    </tr>\n",
       "  </tbody>\n",
       "</table>\n",
       "<p>290688 rows × 5 columns</p>\n",
       "</div>"
      ],
      "text/plain": [
       "        user_id       date group  purchase   price\n",
       "0        851104 2021-01-21     A         0       0\n",
       "1        804228 2021-01-12     A         0       0\n",
       "2        661590 2021-01-11     B         0       0\n",
       "3        853541 2021-01-08     B         0       0\n",
       "4        864975 2021-01-21     A         1  150000\n",
       "...         ...        ...   ...       ...     ...\n",
       "294473   751197 2021-01-03     A         0       0\n",
       "294474   945152 2021-01-12     A         0       0\n",
       "294475   734608 2021-01-22     A         0       0\n",
       "294476   697314 2021-01-15     A         0       0\n",
       "294477   715931 2021-01-16     B         0       0\n",
       "\n",
       "[290688 rows x 5 columns]"
      ]
     },
     "execution_count": 120,
     "metadata": {},
     "output_type": "execute_result"
    }
   ],
   "source": [
    "updated_data"
   ]
  },
  {
   "cell_type": "code",
   "execution_count": 121,
   "id": "78d46a02-cc30-4783-9b18-9fc9c6a08012",
   "metadata": {},
   "outputs": [
    {
     "data": {
      "text/html": [
       "<div>\n",
       "<style scoped>\n",
       "    .dataframe tbody tr th:only-of-type {\n",
       "        vertical-align: middle;\n",
       "    }\n",
       "\n",
       "    .dataframe tbody tr th {\n",
       "        vertical-align: top;\n",
       "    }\n",
       "\n",
       "    .dataframe thead th {\n",
       "        text-align: right;\n",
       "    }\n",
       "</style>\n",
       "<table border=\"1\" class=\"dataframe\">\n",
       "  <thead>\n",
       "    <tr style=\"text-align: right;\">\n",
       "      <th>price</th>\n",
       "      <th>0</th>\n",
       "      <th>10000</th>\n",
       "      <th>60000</th>\n",
       "      <th>100000</th>\n",
       "      <th>150000</th>\n",
       "      <th>200000</th>\n",
       "    </tr>\n",
       "    <tr>\n",
       "      <th>group</th>\n",
       "      <th></th>\n",
       "      <th></th>\n",
       "      <th></th>\n",
       "      <th></th>\n",
       "      <th></th>\n",
       "      <th></th>\n",
       "    </tr>\n",
       "  </thead>\n",
       "  <tbody>\n",
       "    <tr>\n",
       "      <th>A</th>\n",
       "      <td>0</td>\n",
       "      <td>5182</td>\n",
       "      <td>5271</td>\n",
       "      <td>1832</td>\n",
       "      <td>3478</td>\n",
       "      <td>1724</td>\n",
       "    </tr>\n",
       "    <tr>\n",
       "      <th>B</th>\n",
       "      <td>0</td>\n",
       "      <td>5201</td>\n",
       "      <td>1730</td>\n",
       "      <td>5227</td>\n",
       "      <td>3438</td>\n",
       "      <td>1694</td>\n",
       "    </tr>\n",
       "  </tbody>\n",
       "</table>\n",
       "</div>"
      ],
      "text/plain": [
       "price  0       10000   60000   100000  150000  200000\n",
       "group                                                \n",
       "A           0    5182    5271    1832    3478    1724\n",
       "B           0    5201    1730    5227    3438    1694"
      ]
     },
     "execution_count": 121,
     "metadata": {},
     "output_type": "execute_result"
    }
   ],
   "source": [
    "# ваш код здесь\n",
    "pivot = updated_data.pivot_table(\n",
    "    values='purchase',\n",
    "    index='group',\n",
    "    columns= 'price',\n",
    "    aggfunc='sum',\n",
    "    fill_value=0\n",
    ")\n",
    "\n",
    "pivot"
   ]
  },
  {
   "cell_type": "markdown",
   "id": "977423ed-8f8d-475c-b773-621edd95338d",
   "metadata": {},
   "source": [
    "Визуализируйте полученную сводную таблицу с помощью тепловой карты с аннотацией. \n",
    "Чему равно количество проданных туров за 60000 рублей в группах?"
   ]
  },
  {
   "cell_type": "markdown",
   "id": "0b577a29",
   "metadata": {},
   "source": [
    "в группе А 5271, в группе В 1730"
   ]
  },
  {
   "cell_type": "code",
   "execution_count": 122,
   "id": "f634fa8d-585c-42e3-b7d5-78e8d9eaa8c5",
   "metadata": {},
   "outputs": [
    {
     "data": {
      "application/vnd.plotly.v1+json": {
       "config": {
        "plotlyServerURL": "https://plot.ly"
       },
       "data": [
        {
         "coloraxis": "coloraxis",
         "hovertemplate": "price: %{x}<br>group: %{y}<br>color: %{z}<extra></extra>",
         "name": "0",
         "type": "heatmap",
         "x": [
          0,
          10000,
          60000,
          100000,
          150000,
          200000
         ],
         "xaxis": "x",
         "y": [
          "A",
          "B"
         ],
         "yaxis": "y",
         "z": [
          [
           0,
           5182,
           5271,
           1832,
           3478,
           1724
          ],
          [
           0,
           5201,
           1730,
           5227,
           3438,
           1694
          ]
         ]
        }
       ],
       "layout": {
        "coloraxis": {
         "colorscale": [
          [
           0,
           "rgb(255,245,240)"
          ],
          [
           0.125,
           "rgb(254,224,210)"
          ],
          [
           0.25,
           "rgb(252,187,161)"
          ],
          [
           0.375,
           "rgb(252,146,114)"
          ],
          [
           0.5,
           "rgb(251,106,74)"
          ],
          [
           0.625,
           "rgb(239,59,44)"
          ],
          [
           0.75,
           "rgb(203,24,29)"
          ],
          [
           0.875,
           "rgb(165,15,21)"
          ],
          [
           1,
           "rgb(103,0,13)"
          ]
         ]
        },
        "template": {
         "data": {
          "bar": [
           {
            "error_x": {
             "color": "#2a3f5f"
            },
            "error_y": {
             "color": "#2a3f5f"
            },
            "marker": {
             "line": {
              "color": "#E5ECF6",
              "width": 0.5
             },
             "pattern": {
              "fillmode": "overlay",
              "size": 10,
              "solidity": 0.2
             }
            },
            "type": "bar"
           }
          ],
          "barpolar": [
           {
            "marker": {
             "line": {
              "color": "#E5ECF6",
              "width": 0.5
             },
             "pattern": {
              "fillmode": "overlay",
              "size": 10,
              "solidity": 0.2
             }
            },
            "type": "barpolar"
           }
          ],
          "carpet": [
           {
            "aaxis": {
             "endlinecolor": "#2a3f5f",
             "gridcolor": "white",
             "linecolor": "white",
             "minorgridcolor": "white",
             "startlinecolor": "#2a3f5f"
            },
            "baxis": {
             "endlinecolor": "#2a3f5f",
             "gridcolor": "white",
             "linecolor": "white",
             "minorgridcolor": "white",
             "startlinecolor": "#2a3f5f"
            },
            "type": "carpet"
           }
          ],
          "choropleth": [
           {
            "colorbar": {
             "outlinewidth": 0,
             "ticks": ""
            },
            "type": "choropleth"
           }
          ],
          "contour": [
           {
            "colorbar": {
             "outlinewidth": 0,
             "ticks": ""
            },
            "colorscale": [
             [
              0,
              "#0d0887"
             ],
             [
              0.1111111111111111,
              "#46039f"
             ],
             [
              0.2222222222222222,
              "#7201a8"
             ],
             [
              0.3333333333333333,
              "#9c179e"
             ],
             [
              0.4444444444444444,
              "#bd3786"
             ],
             [
              0.5555555555555556,
              "#d8576b"
             ],
             [
              0.6666666666666666,
              "#ed7953"
             ],
             [
              0.7777777777777778,
              "#fb9f3a"
             ],
             [
              0.8888888888888888,
              "#fdca26"
             ],
             [
              1,
              "#f0f921"
             ]
            ],
            "type": "contour"
           }
          ],
          "contourcarpet": [
           {
            "colorbar": {
             "outlinewidth": 0,
             "ticks": ""
            },
            "type": "contourcarpet"
           }
          ],
          "heatmap": [
           {
            "colorbar": {
             "outlinewidth": 0,
             "ticks": ""
            },
            "colorscale": [
             [
              0,
              "#0d0887"
             ],
             [
              0.1111111111111111,
              "#46039f"
             ],
             [
              0.2222222222222222,
              "#7201a8"
             ],
             [
              0.3333333333333333,
              "#9c179e"
             ],
             [
              0.4444444444444444,
              "#bd3786"
             ],
             [
              0.5555555555555556,
              "#d8576b"
             ],
             [
              0.6666666666666666,
              "#ed7953"
             ],
             [
              0.7777777777777778,
              "#fb9f3a"
             ],
             [
              0.8888888888888888,
              "#fdca26"
             ],
             [
              1,
              "#f0f921"
             ]
            ],
            "type": "heatmap"
           }
          ],
          "heatmapgl": [
           {
            "colorbar": {
             "outlinewidth": 0,
             "ticks": ""
            },
            "colorscale": [
             [
              0,
              "#0d0887"
             ],
             [
              0.1111111111111111,
              "#46039f"
             ],
             [
              0.2222222222222222,
              "#7201a8"
             ],
             [
              0.3333333333333333,
              "#9c179e"
             ],
             [
              0.4444444444444444,
              "#bd3786"
             ],
             [
              0.5555555555555556,
              "#d8576b"
             ],
             [
              0.6666666666666666,
              "#ed7953"
             ],
             [
              0.7777777777777778,
              "#fb9f3a"
             ],
             [
              0.8888888888888888,
              "#fdca26"
             ],
             [
              1,
              "#f0f921"
             ]
            ],
            "type": "heatmapgl"
           }
          ],
          "histogram": [
           {
            "marker": {
             "pattern": {
              "fillmode": "overlay",
              "size": 10,
              "solidity": 0.2
             }
            },
            "type": "histogram"
           }
          ],
          "histogram2d": [
           {
            "colorbar": {
             "outlinewidth": 0,
             "ticks": ""
            },
            "colorscale": [
             [
              0,
              "#0d0887"
             ],
             [
              0.1111111111111111,
              "#46039f"
             ],
             [
              0.2222222222222222,
              "#7201a8"
             ],
             [
              0.3333333333333333,
              "#9c179e"
             ],
             [
              0.4444444444444444,
              "#bd3786"
             ],
             [
              0.5555555555555556,
              "#d8576b"
             ],
             [
              0.6666666666666666,
              "#ed7953"
             ],
             [
              0.7777777777777778,
              "#fb9f3a"
             ],
             [
              0.8888888888888888,
              "#fdca26"
             ],
             [
              1,
              "#f0f921"
             ]
            ],
            "type": "histogram2d"
           }
          ],
          "histogram2dcontour": [
           {
            "colorbar": {
             "outlinewidth": 0,
             "ticks": ""
            },
            "colorscale": [
             [
              0,
              "#0d0887"
             ],
             [
              0.1111111111111111,
              "#46039f"
             ],
             [
              0.2222222222222222,
              "#7201a8"
             ],
             [
              0.3333333333333333,
              "#9c179e"
             ],
             [
              0.4444444444444444,
              "#bd3786"
             ],
             [
              0.5555555555555556,
              "#d8576b"
             ],
             [
              0.6666666666666666,
              "#ed7953"
             ],
             [
              0.7777777777777778,
              "#fb9f3a"
             ],
             [
              0.8888888888888888,
              "#fdca26"
             ],
             [
              1,
              "#f0f921"
             ]
            ],
            "type": "histogram2dcontour"
           }
          ],
          "mesh3d": [
           {
            "colorbar": {
             "outlinewidth": 0,
             "ticks": ""
            },
            "type": "mesh3d"
           }
          ],
          "parcoords": [
           {
            "line": {
             "colorbar": {
              "outlinewidth": 0,
              "ticks": ""
             }
            },
            "type": "parcoords"
           }
          ],
          "pie": [
           {
            "automargin": true,
            "type": "pie"
           }
          ],
          "scatter": [
           {
            "fillpattern": {
             "fillmode": "overlay",
             "size": 10,
             "solidity": 0.2
            },
            "type": "scatter"
           }
          ],
          "scatter3d": [
           {
            "line": {
             "colorbar": {
              "outlinewidth": 0,
              "ticks": ""
             }
            },
            "marker": {
             "colorbar": {
              "outlinewidth": 0,
              "ticks": ""
             }
            },
            "type": "scatter3d"
           }
          ],
          "scattercarpet": [
           {
            "marker": {
             "colorbar": {
              "outlinewidth": 0,
              "ticks": ""
             }
            },
            "type": "scattercarpet"
           }
          ],
          "scattergeo": [
           {
            "marker": {
             "colorbar": {
              "outlinewidth": 0,
              "ticks": ""
             }
            },
            "type": "scattergeo"
           }
          ],
          "scattergl": [
           {
            "marker": {
             "colorbar": {
              "outlinewidth": 0,
              "ticks": ""
             }
            },
            "type": "scattergl"
           }
          ],
          "scattermapbox": [
           {
            "marker": {
             "colorbar": {
              "outlinewidth": 0,
              "ticks": ""
             }
            },
            "type": "scattermapbox"
           }
          ],
          "scatterpolar": [
           {
            "marker": {
             "colorbar": {
              "outlinewidth": 0,
              "ticks": ""
             }
            },
            "type": "scatterpolar"
           }
          ],
          "scatterpolargl": [
           {
            "marker": {
             "colorbar": {
              "outlinewidth": 0,
              "ticks": ""
             }
            },
            "type": "scatterpolargl"
           }
          ],
          "scatterternary": [
           {
            "marker": {
             "colorbar": {
              "outlinewidth": 0,
              "ticks": ""
             }
            },
            "type": "scatterternary"
           }
          ],
          "surface": [
           {
            "colorbar": {
             "outlinewidth": 0,
             "ticks": ""
            },
            "colorscale": [
             [
              0,
              "#0d0887"
             ],
             [
              0.1111111111111111,
              "#46039f"
             ],
             [
              0.2222222222222222,
              "#7201a8"
             ],
             [
              0.3333333333333333,
              "#9c179e"
             ],
             [
              0.4444444444444444,
              "#bd3786"
             ],
             [
              0.5555555555555556,
              "#d8576b"
             ],
             [
              0.6666666666666666,
              "#ed7953"
             ],
             [
              0.7777777777777778,
              "#fb9f3a"
             ],
             [
              0.8888888888888888,
              "#fdca26"
             ],
             [
              1,
              "#f0f921"
             ]
            ],
            "type": "surface"
           }
          ],
          "table": [
           {
            "cells": {
             "fill": {
              "color": "#EBF0F8"
             },
             "line": {
              "color": "white"
             }
            },
            "header": {
             "fill": {
              "color": "#C8D4E3"
             },
             "line": {
              "color": "white"
             }
            },
            "type": "table"
           }
          ]
         },
         "layout": {
          "annotationdefaults": {
           "arrowcolor": "#2a3f5f",
           "arrowhead": 0,
           "arrowwidth": 1
          },
          "autotypenumbers": "strict",
          "coloraxis": {
           "colorbar": {
            "outlinewidth": 0,
            "ticks": ""
           }
          },
          "colorscale": {
           "diverging": [
            [
             0,
             "#8e0152"
            ],
            [
             0.1,
             "#c51b7d"
            ],
            [
             0.2,
             "#de77ae"
            ],
            [
             0.3,
             "#f1b6da"
            ],
            [
             0.4,
             "#fde0ef"
            ],
            [
             0.5,
             "#f7f7f7"
            ],
            [
             0.6,
             "#e6f5d0"
            ],
            [
             0.7,
             "#b8e186"
            ],
            [
             0.8,
             "#7fbc41"
            ],
            [
             0.9,
             "#4d9221"
            ],
            [
             1,
             "#276419"
            ]
           ],
           "sequential": [
            [
             0,
             "#0d0887"
            ],
            [
             0.1111111111111111,
             "#46039f"
            ],
            [
             0.2222222222222222,
             "#7201a8"
            ],
            [
             0.3333333333333333,
             "#9c179e"
            ],
            [
             0.4444444444444444,
             "#bd3786"
            ],
            [
             0.5555555555555556,
             "#d8576b"
            ],
            [
             0.6666666666666666,
             "#ed7953"
            ],
            [
             0.7777777777777778,
             "#fb9f3a"
            ],
            [
             0.8888888888888888,
             "#fdca26"
            ],
            [
             1,
             "#f0f921"
            ]
           ],
           "sequentialminus": [
            [
             0,
             "#0d0887"
            ],
            [
             0.1111111111111111,
             "#46039f"
            ],
            [
             0.2222222222222222,
             "#7201a8"
            ],
            [
             0.3333333333333333,
             "#9c179e"
            ],
            [
             0.4444444444444444,
             "#bd3786"
            ],
            [
             0.5555555555555556,
             "#d8576b"
            ],
            [
             0.6666666666666666,
             "#ed7953"
            ],
            [
             0.7777777777777778,
             "#fb9f3a"
            ],
            [
             0.8888888888888888,
             "#fdca26"
            ],
            [
             1,
             "#f0f921"
            ]
           ]
          },
          "colorway": [
           "#636efa",
           "#EF553B",
           "#00cc96",
           "#ab63fa",
           "#FFA15A",
           "#19d3f3",
           "#FF6692",
           "#B6E880",
           "#FF97FF",
           "#FECB52"
          ],
          "font": {
           "color": "#2a3f5f"
          },
          "geo": {
           "bgcolor": "white",
           "lakecolor": "white",
           "landcolor": "#E5ECF6",
           "showlakes": true,
           "showland": true,
           "subunitcolor": "white"
          },
          "hoverlabel": {
           "align": "left"
          },
          "hovermode": "closest",
          "mapbox": {
           "style": "light"
          },
          "paper_bgcolor": "white",
          "plot_bgcolor": "#E5ECF6",
          "polar": {
           "angularaxis": {
            "gridcolor": "white",
            "linecolor": "white",
            "ticks": ""
           },
           "bgcolor": "#E5ECF6",
           "radialaxis": {
            "gridcolor": "white",
            "linecolor": "white",
            "ticks": ""
           }
          },
          "scene": {
           "xaxis": {
            "backgroundcolor": "#E5ECF6",
            "gridcolor": "white",
            "gridwidth": 2,
            "linecolor": "white",
            "showbackground": true,
            "ticks": "",
            "zerolinecolor": "white"
           },
           "yaxis": {
            "backgroundcolor": "#E5ECF6",
            "gridcolor": "white",
            "gridwidth": 2,
            "linecolor": "white",
            "showbackground": true,
            "ticks": "",
            "zerolinecolor": "white"
           },
           "zaxis": {
            "backgroundcolor": "#E5ECF6",
            "gridcolor": "white",
            "gridwidth": 2,
            "linecolor": "white",
            "showbackground": true,
            "ticks": "",
            "zerolinecolor": "white"
           }
          },
          "shapedefaults": {
           "line": {
            "color": "#2a3f5f"
           }
          },
          "ternary": {
           "aaxis": {
            "gridcolor": "white",
            "linecolor": "white",
            "ticks": ""
           },
           "baxis": {
            "gridcolor": "white",
            "linecolor": "white",
            "ticks": ""
           },
           "bgcolor": "#E5ECF6",
           "caxis": {
            "gridcolor": "white",
            "linecolor": "white",
            "ticks": ""
           }
          },
          "title": {
           "x": 0.05
          },
          "xaxis": {
           "automargin": true,
           "gridcolor": "white",
           "linecolor": "white",
           "ticks": "",
           "title": {
            "standoff": 15
           },
           "zerolinecolor": "white",
           "zerolinewidth": 2
          },
          "yaxis": {
           "automargin": true,
           "gridcolor": "white",
           "linecolor": "white",
           "ticks": "",
           "title": {
            "standoff": 15
           },
           "zerolinecolor": "white",
           "zerolinewidth": 2
          }
         }
        },
        "title": {
         "text": "Зависимость количества прданных туров от направления по группам"
        },
        "xaxis": {
         "anchor": "y",
         "constrain": "domain",
         "domain": [
          0,
          1
         ],
         "scaleanchor": "y",
         "title": {
          "text": "price"
         }
        },
        "yaxis": {
         "anchor": "x",
         "autorange": "reversed",
         "constrain": "domain",
         "domain": [
          0,
          1
         ],
         "title": {
          "text": "group"
         }
        }
       }
      }
     },
     "metadata": {},
     "output_type": "display_data"
    }
   ],
   "source": [
    "# ваш код здесь\n",
    "import plotly.express as px\n",
    "fig = px.imshow(pivot, color_continuous_scale='reds',title='Зависимость количества прданных туров от направления по группам')\n",
    "fig.show() "
   ]
  },
  {
   "cell_type": "markdown",
   "id": "9caa92ca-e261-4b8f-a16c-2abc322c9ffb",
   "metadata": {},
   "source": [
    "Сделайте выводы по построенной таблице. По каким турам покупательская способность участников группы А выше, чем участников группы B и наоборот?"
   ]
  },
  {
   "cell_type": "markdown",
   "id": "a0202f67",
   "metadata": {},
   "source": [
    "И тепловой карты видно, что туры в Санкт-Петербург, Камчатку и Мальдивы одинакоово распределены по группам, существенное отличие в том, что в группе А в 3 раза чаще покупают туры в Турцию, а в группе настолько же туры в Таиланд."
   ]
  },
  {
   "cell_type": "markdown",
   "id": "6d13fd45-e3df-468f-9d32-1fc45d38b10c",
   "metadata": {},
   "source": [
    "ваши выводы здесь"
   ]
  },
  {
   "cell_type": "markdown",
   "id": "8f021fb4-d0f6-4e43-b518-1a96c07a4531",
   "metadata": {
    "tags": []
   },
   "source": [
    "## **Задание 7.8.**\n",
    "\n",
    "Настало время поговорить о стабилизации кумулятивных метрик во времени. Но прежде, чем перейти к кумулятивным метрикам, нам необходимо построить таблицу с ежедневными данными результатов проведения A/B-тестирования.\n",
    "\n",
    "Сгруппируйте данные по дате и группе тестирования. В каждой группе вычислите количество посещений страницы, количество покупок и сумму покупок. \n",
    "\n",
    "Добавьте в таблицу информацию о ежедневной конверсии (ежедневное количество покупок / ежедневное количество посещений) в группе и ежедневном среднем чеке (ежедневная сумма покупок / ежедневное количество покупок)\n",
    "* Чему равна конверсия 3 января 2021 года? Ответ приведите в процентах и округлите до сотых.\n",
    "\n",
    "* Чему равен средний чек 3 января 2021 года? Ответ приведите в рублях и округлите до целого."
   ]
  },
  {
   "cell_type": "code",
   "execution_count": 123,
   "id": "4503b528-412e-433a-bc03-da7da52fa1a3",
   "metadata": {},
   "outputs": [
    {
     "data": {
      "text/html": [
       "<div>\n",
       "<style scoped>\n",
       "    .dataframe tbody tr th:only-of-type {\n",
       "        vertical-align: middle;\n",
       "    }\n",
       "\n",
       "    .dataframe tbody tr th {\n",
       "        vertical-align: top;\n",
       "    }\n",
       "\n",
       "    .dataframe thead th {\n",
       "        text-align: right;\n",
       "    }\n",
       "</style>\n",
       "<table border=\"1\" class=\"dataframe\">\n",
       "  <thead>\n",
       "    <tr style=\"text-align: right;\">\n",
       "      <th></th>\n",
       "      <th>date</th>\n",
       "      <th>group</th>\n",
       "      <th>count_visits</th>\n",
       "      <th>count_purchases</th>\n",
       "      <th>sum_price</th>\n",
       "      <th>conversion</th>\n",
       "      <th>mean_check</th>\n",
       "    </tr>\n",
       "  </thead>\n",
       "  <tbody>\n",
       "    <tr>\n",
       "      <th>0</th>\n",
       "      <td>2021-01-02</td>\n",
       "      <td>A</td>\n",
       "      <td>2854</td>\n",
       "      <td>359</td>\n",
       "      <td>29410000</td>\n",
       "      <td>12.578837</td>\n",
       "      <td>81922.005571</td>\n",
       "    </tr>\n",
       "    <tr>\n",
       "      <th>1</th>\n",
       "      <td>2021-01-02</td>\n",
       "      <td>B</td>\n",
       "      <td>2861</td>\n",
       "      <td>345</td>\n",
       "      <td>29660000</td>\n",
       "      <td>12.058721</td>\n",
       "      <td>85971.014493</td>\n",
       "    </tr>\n",
       "    <tr>\n",
       "      <th>2</th>\n",
       "      <td>2021-01-03</td>\n",
       "      <td>A</td>\n",
       "      <td>6596</td>\n",
       "      <td>748</td>\n",
       "      <td>62000000</td>\n",
       "      <td>11.340206</td>\n",
       "      <td>82887.700535</td>\n",
       "    </tr>\n",
       "    <tr>\n",
       "      <th>3</th>\n",
       "      <td>2021-01-03</td>\n",
       "      <td>B</td>\n",
       "      <td>6619</td>\n",
       "      <td>754</td>\n",
       "      <td>65960000</td>\n",
       "      <td>11.391449</td>\n",
       "      <td>87480.106101</td>\n",
       "    </tr>\n",
       "    <tr>\n",
       "      <th>4</th>\n",
       "      <td>2021-01-04</td>\n",
       "      <td>A</td>\n",
       "      <td>6566</td>\n",
       "      <td>799</td>\n",
       "      <td>64250000</td>\n",
       "      <td>12.168748</td>\n",
       "      <td>80413.016270</td>\n",
       "    </tr>\n",
       "    <tr>\n",
       "      <th>5</th>\n",
       "      <td>2021-01-04</td>\n",
       "      <td>B</td>\n",
       "      <td>6536</td>\n",
       "      <td>764</td>\n",
       "      <td>68030000</td>\n",
       "      <td>11.689106</td>\n",
       "      <td>89044.502618</td>\n",
       "    </tr>\n",
       "    <tr>\n",
       "      <th>6</th>\n",
       "      <td>2021-01-05</td>\n",
       "      <td>A</td>\n",
       "      <td>6433</td>\n",
       "      <td>790</td>\n",
       "      <td>64550000</td>\n",
       "      <td>12.280429</td>\n",
       "      <td>81708.860759</td>\n",
       "    </tr>\n",
       "    <tr>\n",
       "      <th>7</th>\n",
       "      <td>2021-01-05</td>\n",
       "      <td>B</td>\n",
       "      <td>6511</td>\n",
       "      <td>749</td>\n",
       "      <td>63550000</td>\n",
       "      <td>11.503609</td>\n",
       "      <td>84846.461949</td>\n",
       "    </tr>\n",
       "    <tr>\n",
       "      <th>8</th>\n",
       "      <td>2021-01-06</td>\n",
       "      <td>A</td>\n",
       "      <td>6606</td>\n",
       "      <td>764</td>\n",
       "      <td>63410000</td>\n",
       "      <td>11.565244</td>\n",
       "      <td>82997.382199</td>\n",
       "    </tr>\n",
       "    <tr>\n",
       "      <th>9</th>\n",
       "      <td>2021-01-06</td>\n",
       "      <td>B</td>\n",
       "      <td>6751</td>\n",
       "      <td>838</td>\n",
       "      <td>75020000</td>\n",
       "      <td>12.412976</td>\n",
       "      <td>89522.673031</td>\n",
       "    </tr>\n",
       "    <tr>\n",
       "      <th>10</th>\n",
       "      <td>2021-01-07</td>\n",
       "      <td>A</td>\n",
       "      <td>6579</td>\n",
       "      <td>795</td>\n",
       "      <td>67290000</td>\n",
       "      <td>12.083903</td>\n",
       "      <td>84641.509434</td>\n",
       "    </tr>\n",
       "    <tr>\n",
       "      <th>11</th>\n",
       "      <td>2021-01-07</td>\n",
       "      <td>B</td>\n",
       "      <td>6616</td>\n",
       "      <td>767</td>\n",
       "      <td>67170000</td>\n",
       "      <td>11.593108</td>\n",
       "      <td>87574.967405</td>\n",
       "    </tr>\n",
       "    <tr>\n",
       "      <th>12</th>\n",
       "      <td>2021-01-08</td>\n",
       "      <td>A</td>\n",
       "      <td>6687</td>\n",
       "      <td>798</td>\n",
       "      <td>65380000</td>\n",
       "      <td>11.933603</td>\n",
       "      <td>81929.824561</td>\n",
       "    </tr>\n",
       "    <tr>\n",
       "      <th>13</th>\n",
       "      <td>2021-01-08</td>\n",
       "      <td>B</td>\n",
       "      <td>6714</td>\n",
       "      <td>812</td>\n",
       "      <td>71270000</td>\n",
       "      <td>12.094132</td>\n",
       "      <td>87770.935961</td>\n",
       "    </tr>\n",
       "    <tr>\n",
       "      <th>14</th>\n",
       "      <td>2021-01-09</td>\n",
       "      <td>A</td>\n",
       "      <td>6633</td>\n",
       "      <td>794</td>\n",
       "      <td>65610000</td>\n",
       "      <td>11.970451</td>\n",
       "      <td>82632.241814</td>\n",
       "    </tr>\n",
       "    <tr>\n",
       "      <th>15</th>\n",
       "      <td>2021-01-09</td>\n",
       "      <td>B</td>\n",
       "      <td>6628</td>\n",
       "      <td>784</td>\n",
       "      <td>71410000</td>\n",
       "      <td>11.828606</td>\n",
       "      <td>91084.183673</td>\n",
       "    </tr>\n",
       "    <tr>\n",
       "      <th>16</th>\n",
       "      <td>2021-01-10</td>\n",
       "      <td>A</td>\n",
       "      <td>6659</td>\n",
       "      <td>759</td>\n",
       "      <td>58950000</td>\n",
       "      <td>11.398108</td>\n",
       "      <td>77667.984190</td>\n",
       "    </tr>\n",
       "    <tr>\n",
       "      <th>17</th>\n",
       "      <td>2021-01-10</td>\n",
       "      <td>B</td>\n",
       "      <td>6701</td>\n",
       "      <td>846</td>\n",
       "      <td>78080000</td>\n",
       "      <td>12.624981</td>\n",
       "      <td>92293.144208</td>\n",
       "    </tr>\n",
       "    <tr>\n",
       "      <th>18</th>\n",
       "      <td>2021-01-11</td>\n",
       "      <td>A</td>\n",
       "      <td>6699</td>\n",
       "      <td>797</td>\n",
       "      <td>58760000</td>\n",
       "      <td>11.897298</td>\n",
       "      <td>73726.474279</td>\n",
       "    </tr>\n",
       "    <tr>\n",
       "      <th>19</th>\n",
       "      <td>2021-01-11</td>\n",
       "      <td>B</td>\n",
       "      <td>6679</td>\n",
       "      <td>770</td>\n",
       "      <td>66960000</td>\n",
       "      <td>11.528672</td>\n",
       "      <td>86961.038961</td>\n",
       "    </tr>\n",
       "    <tr>\n",
       "      <th>20</th>\n",
       "      <td>2021-01-12</td>\n",
       "      <td>A</td>\n",
       "      <td>6540</td>\n",
       "      <td>795</td>\n",
       "      <td>68460000</td>\n",
       "      <td>12.155963</td>\n",
       "      <td>86113.207547</td>\n",
       "    </tr>\n",
       "    <tr>\n",
       "      <th>21</th>\n",
       "      <td>2021-01-12</td>\n",
       "      <td>B</td>\n",
       "      <td>6635</td>\n",
       "      <td>807</td>\n",
       "      <td>70560000</td>\n",
       "      <td>12.162773</td>\n",
       "      <td>87434.944238</td>\n",
       "    </tr>\n",
       "    <tr>\n",
       "      <th>22</th>\n",
       "      <td>2021-01-13</td>\n",
       "      <td>A</td>\n",
       "      <td>6564</td>\n",
       "      <td>764</td>\n",
       "      <td>63590000</td>\n",
       "      <td>11.639244</td>\n",
       "      <td>83232.984293</td>\n",
       "    </tr>\n",
       "    <tr>\n",
       "      <th>23</th>\n",
       "      <td>2021-01-13</td>\n",
       "      <td>B</td>\n",
       "      <td>6495</td>\n",
       "      <td>720</td>\n",
       "      <td>65910000</td>\n",
       "      <td>11.085450</td>\n",
       "      <td>91541.666667</td>\n",
       "    </tr>\n",
       "    <tr>\n",
       "      <th>24</th>\n",
       "      <td>2021-01-14</td>\n",
       "      <td>A</td>\n",
       "      <td>6543</td>\n",
       "      <td>825</td>\n",
       "      <td>65890000</td>\n",
       "      <td>12.608895</td>\n",
       "      <td>79866.666667</td>\n",
       "    </tr>\n",
       "    <tr>\n",
       "      <th>25</th>\n",
       "      <td>2021-01-14</td>\n",
       "      <td>B</td>\n",
       "      <td>6608</td>\n",
       "      <td>792</td>\n",
       "      <td>68990000</td>\n",
       "      <td>11.985472</td>\n",
       "      <td>87108.585859</td>\n",
       "    </tr>\n",
       "    <tr>\n",
       "      <th>26</th>\n",
       "      <td>2021-01-15</td>\n",
       "      <td>A</td>\n",
       "      <td>6701</td>\n",
       "      <td>806</td>\n",
       "      <td>67570000</td>\n",
       "      <td>12.028056</td>\n",
       "      <td>83833.746898</td>\n",
       "    </tr>\n",
       "    <tr>\n",
       "      <th>27</th>\n",
       "      <td>2021-01-15</td>\n",
       "      <td>B</td>\n",
       "      <td>6563</td>\n",
       "      <td>747</td>\n",
       "      <td>69160000</td>\n",
       "      <td>11.381990</td>\n",
       "      <td>92583.668005</td>\n",
       "    </tr>\n",
       "    <tr>\n",
       "      <th>28</th>\n",
       "      <td>2021-01-16</td>\n",
       "      <td>A</td>\n",
       "      <td>6601</td>\n",
       "      <td>808</td>\n",
       "      <td>66210000</td>\n",
       "      <td>12.240570</td>\n",
       "      <td>81943.069307</td>\n",
       "    </tr>\n",
       "    <tr>\n",
       "      <th>29</th>\n",
       "      <td>2021-01-16</td>\n",
       "      <td>B</td>\n",
       "      <td>6544</td>\n",
       "      <td>786</td>\n",
       "      <td>70560000</td>\n",
       "      <td>12.011002</td>\n",
       "      <td>89770.992366</td>\n",
       "    </tr>\n",
       "    <tr>\n",
       "      <th>30</th>\n",
       "      <td>2021-01-17</td>\n",
       "      <td>A</td>\n",
       "      <td>6619</td>\n",
       "      <td>809</td>\n",
       "      <td>63020000</td>\n",
       "      <td>12.222390</td>\n",
       "      <td>77898.640297</td>\n",
       "    </tr>\n",
       "    <tr>\n",
       "      <th>31</th>\n",
       "      <td>2021-01-17</td>\n",
       "      <td>B</td>\n",
       "      <td>6546</td>\n",
       "      <td>831</td>\n",
       "      <td>75300000</td>\n",
       "      <td>12.694775</td>\n",
       "      <td>90613.718412</td>\n",
       "    </tr>\n",
       "    <tr>\n",
       "      <th>32</th>\n",
       "      <td>2021-01-18</td>\n",
       "      <td>A</td>\n",
       "      <td>6511</td>\n",
       "      <td>812</td>\n",
       "      <td>62850000</td>\n",
       "      <td>12.471203</td>\n",
       "      <td>77401.477833</td>\n",
       "    </tr>\n",
       "    <tr>\n",
       "      <th>33</th>\n",
       "      <td>2021-01-18</td>\n",
       "      <td>B</td>\n",
       "      <td>6603</td>\n",
       "      <td>822</td>\n",
       "      <td>72240000</td>\n",
       "      <td>12.448887</td>\n",
       "      <td>87883.211679</td>\n",
       "    </tr>\n",
       "    <tr>\n",
       "      <th>34</th>\n",
       "      <td>2021-01-19</td>\n",
       "      <td>A</td>\n",
       "      <td>6582</td>\n",
       "      <td>790</td>\n",
       "      <td>63680000</td>\n",
       "      <td>12.002431</td>\n",
       "      <td>80607.594937</td>\n",
       "    </tr>\n",
       "    <tr>\n",
       "      <th>35</th>\n",
       "      <td>2021-01-19</td>\n",
       "      <td>B</td>\n",
       "      <td>6562</td>\n",
       "      <td>772</td>\n",
       "      <td>67820000</td>\n",
       "      <td>11.764706</td>\n",
       "      <td>87849.740933</td>\n",
       "    </tr>\n",
       "    <tr>\n",
       "      <th>36</th>\n",
       "      <td>2021-01-20</td>\n",
       "      <td>A</td>\n",
       "      <td>6533</td>\n",
       "      <td>749</td>\n",
       "      <td>58710000</td>\n",
       "      <td>11.464871</td>\n",
       "      <td>78384.512684</td>\n",
       "    </tr>\n",
       "    <tr>\n",
       "      <th>37</th>\n",
       "      <td>2021-01-20</td>\n",
       "      <td>B</td>\n",
       "      <td>6685</td>\n",
       "      <td>790</td>\n",
       "      <td>69250000</td>\n",
       "      <td>11.817502</td>\n",
       "      <td>87658.227848</td>\n",
       "    </tr>\n",
       "    <tr>\n",
       "      <th>38</th>\n",
       "      <td>2021-01-21</td>\n",
       "      <td>A</td>\n",
       "      <td>6750</td>\n",
       "      <td>851</td>\n",
       "      <td>70300000</td>\n",
       "      <td>12.607407</td>\n",
       "      <td>82608.695652</td>\n",
       "    </tr>\n",
       "    <tr>\n",
       "      <th>39</th>\n",
       "      <td>2021-01-21</td>\n",
       "      <td>B</td>\n",
       "      <td>6555</td>\n",
       "      <td>760</td>\n",
       "      <td>69870000</td>\n",
       "      <td>11.594203</td>\n",
       "      <td>91934.210526</td>\n",
       "    </tr>\n",
       "    <tr>\n",
       "      <th>40</th>\n",
       "      <td>2021-01-22</td>\n",
       "      <td>A</td>\n",
       "      <td>6587</td>\n",
       "      <td>788</td>\n",
       "      <td>63690000</td>\n",
       "      <td>11.962957</td>\n",
       "      <td>80824.873096</td>\n",
       "    </tr>\n",
       "    <tr>\n",
       "      <th>41</th>\n",
       "      <td>2021-01-22</td>\n",
       "      <td>B</td>\n",
       "      <td>6659</td>\n",
       "      <td>787</td>\n",
       "      <td>68660000</td>\n",
       "      <td>11.818591</td>\n",
       "      <td>87242.693774</td>\n",
       "    </tr>\n",
       "    <tr>\n",
       "      <th>42</th>\n",
       "      <td>2021-01-23</td>\n",
       "      <td>A</td>\n",
       "      <td>6698</td>\n",
       "      <td>843</td>\n",
       "      <td>70950000</td>\n",
       "      <td>12.585847</td>\n",
       "      <td>84163.701068</td>\n",
       "    </tr>\n",
       "    <tr>\n",
       "      <th>43</th>\n",
       "      <td>2021-01-23</td>\n",
       "      <td>B</td>\n",
       "      <td>6633</td>\n",
       "      <td>805</td>\n",
       "      <td>68930000</td>\n",
       "      <td>12.136288</td>\n",
       "      <td>85627.329193</td>\n",
       "    </tr>\n",
       "    <tr>\n",
       "      <th>44</th>\n",
       "      <td>2021-01-24</td>\n",
       "      <td>A</td>\n",
       "      <td>3766</td>\n",
       "      <td>444</td>\n",
       "      <td>33250000</td>\n",
       "      <td>11.789697</td>\n",
       "      <td>74887.387387</td>\n",
       "    </tr>\n",
       "    <tr>\n",
       "      <th>45</th>\n",
       "      <td>2021-01-24</td>\n",
       "      <td>B</td>\n",
       "      <td>3677</td>\n",
       "      <td>442</td>\n",
       "      <td>38650000</td>\n",
       "      <td>12.020669</td>\n",
       "      <td>87443.438914</td>\n",
       "    </tr>\n",
       "  </tbody>\n",
       "</table>\n",
       "</div>"
      ],
      "text/plain": [
       "         date group  count_visits  count_purchases  sum_price  conversion  \\\n",
       "0  2021-01-02     A          2854              359   29410000   12.578837   \n",
       "1  2021-01-02     B          2861              345   29660000   12.058721   \n",
       "2  2021-01-03     A          6596              748   62000000   11.340206   \n",
       "3  2021-01-03     B          6619              754   65960000   11.391449   \n",
       "4  2021-01-04     A          6566              799   64250000   12.168748   \n",
       "5  2021-01-04     B          6536              764   68030000   11.689106   \n",
       "6  2021-01-05     A          6433              790   64550000   12.280429   \n",
       "7  2021-01-05     B          6511              749   63550000   11.503609   \n",
       "8  2021-01-06     A          6606              764   63410000   11.565244   \n",
       "9  2021-01-06     B          6751              838   75020000   12.412976   \n",
       "10 2021-01-07     A          6579              795   67290000   12.083903   \n",
       "11 2021-01-07     B          6616              767   67170000   11.593108   \n",
       "12 2021-01-08     A          6687              798   65380000   11.933603   \n",
       "13 2021-01-08     B          6714              812   71270000   12.094132   \n",
       "14 2021-01-09     A          6633              794   65610000   11.970451   \n",
       "15 2021-01-09     B          6628              784   71410000   11.828606   \n",
       "16 2021-01-10     A          6659              759   58950000   11.398108   \n",
       "17 2021-01-10     B          6701              846   78080000   12.624981   \n",
       "18 2021-01-11     A          6699              797   58760000   11.897298   \n",
       "19 2021-01-11     B          6679              770   66960000   11.528672   \n",
       "20 2021-01-12     A          6540              795   68460000   12.155963   \n",
       "21 2021-01-12     B          6635              807   70560000   12.162773   \n",
       "22 2021-01-13     A          6564              764   63590000   11.639244   \n",
       "23 2021-01-13     B          6495              720   65910000   11.085450   \n",
       "24 2021-01-14     A          6543              825   65890000   12.608895   \n",
       "25 2021-01-14     B          6608              792   68990000   11.985472   \n",
       "26 2021-01-15     A          6701              806   67570000   12.028056   \n",
       "27 2021-01-15     B          6563              747   69160000   11.381990   \n",
       "28 2021-01-16     A          6601              808   66210000   12.240570   \n",
       "29 2021-01-16     B          6544              786   70560000   12.011002   \n",
       "30 2021-01-17     A          6619              809   63020000   12.222390   \n",
       "31 2021-01-17     B          6546              831   75300000   12.694775   \n",
       "32 2021-01-18     A          6511              812   62850000   12.471203   \n",
       "33 2021-01-18     B          6603              822   72240000   12.448887   \n",
       "34 2021-01-19     A          6582              790   63680000   12.002431   \n",
       "35 2021-01-19     B          6562              772   67820000   11.764706   \n",
       "36 2021-01-20     A          6533              749   58710000   11.464871   \n",
       "37 2021-01-20     B          6685              790   69250000   11.817502   \n",
       "38 2021-01-21     A          6750              851   70300000   12.607407   \n",
       "39 2021-01-21     B          6555              760   69870000   11.594203   \n",
       "40 2021-01-22     A          6587              788   63690000   11.962957   \n",
       "41 2021-01-22     B          6659              787   68660000   11.818591   \n",
       "42 2021-01-23     A          6698              843   70950000   12.585847   \n",
       "43 2021-01-23     B          6633              805   68930000   12.136288   \n",
       "44 2021-01-24     A          3766              444   33250000   11.789697   \n",
       "45 2021-01-24     B          3677              442   38650000   12.020669   \n",
       "\n",
       "      mean_check  \n",
       "0   81922.005571  \n",
       "1   85971.014493  \n",
       "2   82887.700535  \n",
       "3   87480.106101  \n",
       "4   80413.016270  \n",
       "5   89044.502618  \n",
       "6   81708.860759  \n",
       "7   84846.461949  \n",
       "8   82997.382199  \n",
       "9   89522.673031  \n",
       "10  84641.509434  \n",
       "11  87574.967405  \n",
       "12  81929.824561  \n",
       "13  87770.935961  \n",
       "14  82632.241814  \n",
       "15  91084.183673  \n",
       "16  77667.984190  \n",
       "17  92293.144208  \n",
       "18  73726.474279  \n",
       "19  86961.038961  \n",
       "20  86113.207547  \n",
       "21  87434.944238  \n",
       "22  83232.984293  \n",
       "23  91541.666667  \n",
       "24  79866.666667  \n",
       "25  87108.585859  \n",
       "26  83833.746898  \n",
       "27  92583.668005  \n",
       "28  81943.069307  \n",
       "29  89770.992366  \n",
       "30  77898.640297  \n",
       "31  90613.718412  \n",
       "32  77401.477833  \n",
       "33  87883.211679  \n",
       "34  80607.594937  \n",
       "35  87849.740933  \n",
       "36  78384.512684  \n",
       "37  87658.227848  \n",
       "38  82608.695652  \n",
       "39  91934.210526  \n",
       "40  80824.873096  \n",
       "41  87242.693774  \n",
       "42  84163.701068  \n",
       "43  85627.329193  \n",
       "44  74887.387387  \n",
       "45  87443.438914  "
      ]
     },
     "execution_count": 123,
     "metadata": {},
     "output_type": "execute_result"
    }
   ],
   "source": [
    "# ваш код здесь\n",
    "data3=updated_data.groupby(['date','group'],as_index=False).agg(\n",
    "    count_visits=('purchase','count'),\n",
    "    count_purchases=('purchase','sum'),\n",
    "    sum_price=('price','sum')\n",
    ")\n",
    "data3['conversion']=data3['count_purchases']/data3['count_visits']*100\n",
    "data3['mean_check']=data3['sum_price']/data3['count_purchases']\n",
    "data3"
   ]
  },
  {
   "cell_type": "markdown",
   "id": "bc8e241b-1ef1-4f67-ab90-77251889b7f2",
   "metadata": {},
   "source": [
    "## **Задание 7.9.** \n",
    "\n",
    "Добавьте в таблицу с ежедневными показателями кумулятивные признаки:\n",
    "* кумулятивное количество посещений страницы\n",
    "* кумулятивное количество покупок\n",
    "* кумулятивную сумму покупок\n",
    "\n",
    "Не забудьте при расчете кумулятивной суммы сгруппировать данные по группам. \n",
    "\n",
    "Вычислите кумулятивную конверсию и кумулятивный средний чек на основе полученных кумулятивных показателей. \n",
    "\n",
    "* Какая **кумулятивная** конверсия была в группе B на 20 января? Ответ приведите в процентах, округлив до сотых.\n",
    "* Какой **кумулятивный** средний чек был в группе А на 12 января 2021 года? Ответ приведите в рублях, округлив до целых."
   ]
  },
  {
   "cell_type": "code",
   "execution_count": 124,
   "id": "afe59f9a-8d39-45c1-a14f-9f62091d81a1",
   "metadata": {},
   "outputs": [],
   "source": [
    "# ваш код здесь\n",
    "data3['cum_count_visits'] = data3.groupby(['group'])['count_visits'].cumsum()\n",
    "data3['cum_count_purchases'] = data3.groupby(['group'])['count_purchases'].cumsum()\n",
    "data3['cum_sum_price'] = data3.groupby(['group'])['sum_price'].cumsum()\n",
    "data3['cum_conversion']=data3['cum_count_purchases']/data3['cum_count_visits']*100\n",
    "data3['cum_mean_check']=data3['cum_sum_price']/data3['cum_count_purchases']\n"
   ]
  },
  {
   "cell_type": "code",
   "execution_count": 125,
   "id": "6e253e46",
   "metadata": {},
   "outputs": [
    {
     "data": {
      "text/html": [
       "<div>\n",
       "<style scoped>\n",
       "    .dataframe tbody tr th:only-of-type {\n",
       "        vertical-align: middle;\n",
       "    }\n",
       "\n",
       "    .dataframe tbody tr th {\n",
       "        vertical-align: top;\n",
       "    }\n",
       "\n",
       "    .dataframe thead th {\n",
       "        text-align: right;\n",
       "    }\n",
       "</style>\n",
       "<table border=\"1\" class=\"dataframe\">\n",
       "  <thead>\n",
       "    <tr style=\"text-align: right;\">\n",
       "      <th></th>\n",
       "      <th>date</th>\n",
       "      <th>group</th>\n",
       "      <th>count_visits</th>\n",
       "      <th>count_purchases</th>\n",
       "      <th>sum_price</th>\n",
       "      <th>conversion</th>\n",
       "      <th>mean_check</th>\n",
       "      <th>cum_count_visits</th>\n",
       "      <th>cum_count_purchases</th>\n",
       "      <th>cum_sum_price</th>\n",
       "      <th>cum_conversion</th>\n",
       "      <th>cum_mean_check</th>\n",
       "    </tr>\n",
       "  </thead>\n",
       "  <tbody>\n",
       "    <tr>\n",
       "      <th>0</th>\n",
       "      <td>2021-01-02</td>\n",
       "      <td>A</td>\n",
       "      <td>2854</td>\n",
       "      <td>359</td>\n",
       "      <td>29410000</td>\n",
       "      <td>12.578837</td>\n",
       "      <td>81922.005571</td>\n",
       "      <td>2854</td>\n",
       "      <td>359</td>\n",
       "      <td>29410000</td>\n",
       "      <td>12.578837</td>\n",
       "      <td>81922.005571</td>\n",
       "    </tr>\n",
       "    <tr>\n",
       "      <th>1</th>\n",
       "      <td>2021-01-02</td>\n",
       "      <td>B</td>\n",
       "      <td>2861</td>\n",
       "      <td>345</td>\n",
       "      <td>29660000</td>\n",
       "      <td>12.058721</td>\n",
       "      <td>85971.014493</td>\n",
       "      <td>2861</td>\n",
       "      <td>345</td>\n",
       "      <td>29660000</td>\n",
       "      <td>12.058721</td>\n",
       "      <td>85971.014493</td>\n",
       "    </tr>\n",
       "    <tr>\n",
       "      <th>2</th>\n",
       "      <td>2021-01-03</td>\n",
       "      <td>A</td>\n",
       "      <td>6596</td>\n",
       "      <td>748</td>\n",
       "      <td>62000000</td>\n",
       "      <td>11.340206</td>\n",
       "      <td>82887.700535</td>\n",
       "      <td>9450</td>\n",
       "      <td>1107</td>\n",
       "      <td>91410000</td>\n",
       "      <td>11.714286</td>\n",
       "      <td>82574.525745</td>\n",
       "    </tr>\n",
       "    <tr>\n",
       "      <th>3</th>\n",
       "      <td>2021-01-03</td>\n",
       "      <td>B</td>\n",
       "      <td>6619</td>\n",
       "      <td>754</td>\n",
       "      <td>65960000</td>\n",
       "      <td>11.391449</td>\n",
       "      <td>87480.106101</td>\n",
       "      <td>9480</td>\n",
       "      <td>1099</td>\n",
       "      <td>95620000</td>\n",
       "      <td>11.592827</td>\n",
       "      <td>87006.369427</td>\n",
       "    </tr>\n",
       "    <tr>\n",
       "      <th>4</th>\n",
       "      <td>2021-01-04</td>\n",
       "      <td>A</td>\n",
       "      <td>6566</td>\n",
       "      <td>799</td>\n",
       "      <td>64250000</td>\n",
       "      <td>12.168748</td>\n",
       "      <td>80413.016270</td>\n",
       "      <td>16016</td>\n",
       "      <td>1906</td>\n",
       "      <td>155660000</td>\n",
       "      <td>11.900599</td>\n",
       "      <td>81668.415530</td>\n",
       "    </tr>\n",
       "    <tr>\n",
       "      <th>5</th>\n",
       "      <td>2021-01-04</td>\n",
       "      <td>B</td>\n",
       "      <td>6536</td>\n",
       "      <td>764</td>\n",
       "      <td>68030000</td>\n",
       "      <td>11.689106</td>\n",
       "      <td>89044.502618</td>\n",
       "      <td>16016</td>\n",
       "      <td>1863</td>\n",
       "      <td>163650000</td>\n",
       "      <td>11.632118</td>\n",
       "      <td>87842.190016</td>\n",
       "    </tr>\n",
       "    <tr>\n",
       "      <th>6</th>\n",
       "      <td>2021-01-05</td>\n",
       "      <td>A</td>\n",
       "      <td>6433</td>\n",
       "      <td>790</td>\n",
       "      <td>64550000</td>\n",
       "      <td>12.280429</td>\n",
       "      <td>81708.860759</td>\n",
       "      <td>22449</td>\n",
       "      <td>2696</td>\n",
       "      <td>220210000</td>\n",
       "      <td>12.009444</td>\n",
       "      <td>81680.267062</td>\n",
       "    </tr>\n",
       "    <tr>\n",
       "      <th>7</th>\n",
       "      <td>2021-01-05</td>\n",
       "      <td>B</td>\n",
       "      <td>6511</td>\n",
       "      <td>749</td>\n",
       "      <td>63550000</td>\n",
       "      <td>11.503609</td>\n",
       "      <td>84846.461949</td>\n",
       "      <td>22527</td>\n",
       "      <td>2612</td>\n",
       "      <td>227200000</td>\n",
       "      <td>11.594975</td>\n",
       "      <td>86983.154671</td>\n",
       "    </tr>\n",
       "    <tr>\n",
       "      <th>8</th>\n",
       "      <td>2021-01-06</td>\n",
       "      <td>A</td>\n",
       "      <td>6606</td>\n",
       "      <td>764</td>\n",
       "      <td>63410000</td>\n",
       "      <td>11.565244</td>\n",
       "      <td>82997.382199</td>\n",
       "      <td>29055</td>\n",
       "      <td>3460</td>\n",
       "      <td>283620000</td>\n",
       "      <td>11.908449</td>\n",
       "      <td>81971.098266</td>\n",
       "    </tr>\n",
       "    <tr>\n",
       "      <th>9</th>\n",
       "      <td>2021-01-06</td>\n",
       "      <td>B</td>\n",
       "      <td>6751</td>\n",
       "      <td>838</td>\n",
       "      <td>75020000</td>\n",
       "      <td>12.412976</td>\n",
       "      <td>89522.673031</td>\n",
       "      <td>29278</td>\n",
       "      <td>3450</td>\n",
       "      <td>302220000</td>\n",
       "      <td>11.783592</td>\n",
       "      <td>87600.000000</td>\n",
       "    </tr>\n",
       "    <tr>\n",
       "      <th>10</th>\n",
       "      <td>2021-01-07</td>\n",
       "      <td>A</td>\n",
       "      <td>6579</td>\n",
       "      <td>795</td>\n",
       "      <td>67290000</td>\n",
       "      <td>12.083903</td>\n",
       "      <td>84641.509434</td>\n",
       "      <td>35634</td>\n",
       "      <td>4255</td>\n",
       "      <td>350910000</td>\n",
       "      <td>11.940843</td>\n",
       "      <td>82470.035253</td>\n",
       "    </tr>\n",
       "    <tr>\n",
       "      <th>11</th>\n",
       "      <td>2021-01-07</td>\n",
       "      <td>B</td>\n",
       "      <td>6616</td>\n",
       "      <td>767</td>\n",
       "      <td>67170000</td>\n",
       "      <td>11.593108</td>\n",
       "      <td>87574.967405</td>\n",
       "      <td>35894</td>\n",
       "      <td>4217</td>\n",
       "      <td>369390000</td>\n",
       "      <td>11.748482</td>\n",
       "      <td>87595.447000</td>\n",
       "    </tr>\n",
       "    <tr>\n",
       "      <th>12</th>\n",
       "      <td>2021-01-08</td>\n",
       "      <td>A</td>\n",
       "      <td>6687</td>\n",
       "      <td>798</td>\n",
       "      <td>65380000</td>\n",
       "      <td>11.933603</td>\n",
       "      <td>81929.824561</td>\n",
       "      <td>42321</td>\n",
       "      <td>5053</td>\n",
       "      <td>416290000</td>\n",
       "      <td>11.939699</td>\n",
       "      <td>82384.721947</td>\n",
       "    </tr>\n",
       "    <tr>\n",
       "      <th>13</th>\n",
       "      <td>2021-01-08</td>\n",
       "      <td>B</td>\n",
       "      <td>6714</td>\n",
       "      <td>812</td>\n",
       "      <td>71270000</td>\n",
       "      <td>12.094132</td>\n",
       "      <td>87770.935961</td>\n",
       "      <td>42608</td>\n",
       "      <td>5029</td>\n",
       "      <td>440660000</td>\n",
       "      <td>11.802948</td>\n",
       "      <td>87623.782064</td>\n",
       "    </tr>\n",
       "    <tr>\n",
       "      <th>14</th>\n",
       "      <td>2021-01-09</td>\n",
       "      <td>A</td>\n",
       "      <td>6633</td>\n",
       "      <td>794</td>\n",
       "      <td>65610000</td>\n",
       "      <td>11.970451</td>\n",
       "      <td>82632.241814</td>\n",
       "      <td>48954</td>\n",
       "      <td>5847</td>\n",
       "      <td>481900000</td>\n",
       "      <td>11.943866</td>\n",
       "      <td>82418.334188</td>\n",
       "    </tr>\n",
       "    <tr>\n",
       "      <th>15</th>\n",
       "      <td>2021-01-09</td>\n",
       "      <td>B</td>\n",
       "      <td>6628</td>\n",
       "      <td>784</td>\n",
       "      <td>71410000</td>\n",
       "      <td>11.828606</td>\n",
       "      <td>91084.183673</td>\n",
       "      <td>49236</td>\n",
       "      <td>5813</td>\n",
       "      <td>512070000</td>\n",
       "      <td>11.806402</td>\n",
       "      <td>88090.486840</td>\n",
       "    </tr>\n",
       "    <tr>\n",
       "      <th>16</th>\n",
       "      <td>2021-01-10</td>\n",
       "      <td>A</td>\n",
       "      <td>6659</td>\n",
       "      <td>759</td>\n",
       "      <td>58950000</td>\n",
       "      <td>11.398108</td>\n",
       "      <td>77667.984190</td>\n",
       "      <td>55613</td>\n",
       "      <td>6606</td>\n",
       "      <td>540850000</td>\n",
       "      <td>11.878518</td>\n",
       "      <td>81872.540115</td>\n",
       "    </tr>\n",
       "    <tr>\n",
       "      <th>17</th>\n",
       "      <td>2021-01-10</td>\n",
       "      <td>B</td>\n",
       "      <td>6701</td>\n",
       "      <td>846</td>\n",
       "      <td>78080000</td>\n",
       "      <td>12.624981</td>\n",
       "      <td>92293.144208</td>\n",
       "      <td>55937</td>\n",
       "      <td>6659</td>\n",
       "      <td>590150000</td>\n",
       "      <td>11.904464</td>\n",
       "      <td>88624.418081</td>\n",
       "    </tr>\n",
       "    <tr>\n",
       "      <th>18</th>\n",
       "      <td>2021-01-11</td>\n",
       "      <td>A</td>\n",
       "      <td>6699</td>\n",
       "      <td>797</td>\n",
       "      <td>58760000</td>\n",
       "      <td>11.897298</td>\n",
       "      <td>73726.474279</td>\n",
       "      <td>62312</td>\n",
       "      <td>7403</td>\n",
       "      <td>599610000</td>\n",
       "      <td>11.880537</td>\n",
       "      <td>80995.542348</td>\n",
       "    </tr>\n",
       "    <tr>\n",
       "      <th>19</th>\n",
       "      <td>2021-01-11</td>\n",
       "      <td>B</td>\n",
       "      <td>6679</td>\n",
       "      <td>770</td>\n",
       "      <td>66960000</td>\n",
       "      <td>11.528672</td>\n",
       "      <td>86961.038961</td>\n",
       "      <td>62616</td>\n",
       "      <td>7429</td>\n",
       "      <td>657110000</td>\n",
       "      <td>11.864380</td>\n",
       "      <td>88452.012384</td>\n",
       "    </tr>\n",
       "    <tr>\n",
       "      <th>20</th>\n",
       "      <td>2021-01-12</td>\n",
       "      <td>A</td>\n",
       "      <td>6540</td>\n",
       "      <td>795</td>\n",
       "      <td>68460000</td>\n",
       "      <td>12.155963</td>\n",
       "      <td>86113.207547</td>\n",
       "      <td>68852</td>\n",
       "      <td>8198</td>\n",
       "      <td>668070000</td>\n",
       "      <td>11.906698</td>\n",
       "      <td>81491.827275</td>\n",
       "    </tr>\n",
       "    <tr>\n",
       "      <th>21</th>\n",
       "      <td>2021-01-12</td>\n",
       "      <td>B</td>\n",
       "      <td>6635</td>\n",
       "      <td>807</td>\n",
       "      <td>70560000</td>\n",
       "      <td>12.162773</td>\n",
       "      <td>87434.944238</td>\n",
       "      <td>69251</td>\n",
       "      <td>8236</td>\n",
       "      <td>727670000</td>\n",
       "      <td>11.892969</td>\n",
       "      <td>88352.355512</td>\n",
       "    </tr>\n",
       "    <tr>\n",
       "      <th>22</th>\n",
       "      <td>2021-01-13</td>\n",
       "      <td>A</td>\n",
       "      <td>6564</td>\n",
       "      <td>764</td>\n",
       "      <td>63590000</td>\n",
       "      <td>11.639244</td>\n",
       "      <td>83232.984293</td>\n",
       "      <td>75416</td>\n",
       "      <td>8962</td>\n",
       "      <td>731660000</td>\n",
       "      <td>11.883420</td>\n",
       "      <td>81640.258871</td>\n",
       "    </tr>\n",
       "    <tr>\n",
       "      <th>23</th>\n",
       "      <td>2021-01-13</td>\n",
       "      <td>B</td>\n",
       "      <td>6495</td>\n",
       "      <td>720</td>\n",
       "      <td>65910000</td>\n",
       "      <td>11.085450</td>\n",
       "      <td>91541.666667</td>\n",
       "      <td>75746</td>\n",
       "      <td>8956</td>\n",
       "      <td>793580000</td>\n",
       "      <td>11.823727</td>\n",
       "      <td>88608.753908</td>\n",
       "    </tr>\n",
       "    <tr>\n",
       "      <th>24</th>\n",
       "      <td>2021-01-14</td>\n",
       "      <td>A</td>\n",
       "      <td>6543</td>\n",
       "      <td>825</td>\n",
       "      <td>65890000</td>\n",
       "      <td>12.608895</td>\n",
       "      <td>79866.666667</td>\n",
       "      <td>81959</td>\n",
       "      <td>9787</td>\n",
       "      <td>797550000</td>\n",
       "      <td>11.941337</td>\n",
       "      <td>81490.753040</td>\n",
       "    </tr>\n",
       "    <tr>\n",
       "      <th>25</th>\n",
       "      <td>2021-01-14</td>\n",
       "      <td>B</td>\n",
       "      <td>6608</td>\n",
       "      <td>792</td>\n",
       "      <td>68990000</td>\n",
       "      <td>11.985472</td>\n",
       "      <td>87108.585859</td>\n",
       "      <td>82354</td>\n",
       "      <td>9748</td>\n",
       "      <td>862570000</td>\n",
       "      <td>11.836705</td>\n",
       "      <td>88486.869101</td>\n",
       "    </tr>\n",
       "    <tr>\n",
       "      <th>26</th>\n",
       "      <td>2021-01-15</td>\n",
       "      <td>A</td>\n",
       "      <td>6701</td>\n",
       "      <td>806</td>\n",
       "      <td>67570000</td>\n",
       "      <td>12.028056</td>\n",
       "      <td>83833.746898</td>\n",
       "      <td>88660</td>\n",
       "      <td>10593</td>\n",
       "      <td>865120000</td>\n",
       "      <td>11.947891</td>\n",
       "      <td>81669.026716</td>\n",
       "    </tr>\n",
       "    <tr>\n",
       "      <th>27</th>\n",
       "      <td>2021-01-15</td>\n",
       "      <td>B</td>\n",
       "      <td>6563</td>\n",
       "      <td>747</td>\n",
       "      <td>69160000</td>\n",
       "      <td>11.381990</td>\n",
       "      <td>92583.668005</td>\n",
       "      <td>88917</td>\n",
       "      <td>10495</td>\n",
       "      <td>931730000</td>\n",
       "      <td>11.803142</td>\n",
       "      <td>88778.465936</td>\n",
       "    </tr>\n",
       "    <tr>\n",
       "      <th>28</th>\n",
       "      <td>2021-01-16</td>\n",
       "      <td>A</td>\n",
       "      <td>6601</td>\n",
       "      <td>808</td>\n",
       "      <td>66210000</td>\n",
       "      <td>12.240570</td>\n",
       "      <td>81943.069307</td>\n",
       "      <td>95261</td>\n",
       "      <td>11401</td>\n",
       "      <td>931330000</td>\n",
       "      <td>11.968172</td>\n",
       "      <td>81688.448382</td>\n",
       "    </tr>\n",
       "    <tr>\n",
       "      <th>29</th>\n",
       "      <td>2021-01-16</td>\n",
       "      <td>B</td>\n",
       "      <td>6544</td>\n",
       "      <td>786</td>\n",
       "      <td>70560000</td>\n",
       "      <td>12.011002</td>\n",
       "      <td>89770.992366</td>\n",
       "      <td>95461</td>\n",
       "      <td>11281</td>\n",
       "      <td>1002290000</td>\n",
       "      <td>11.817391</td>\n",
       "      <td>88847.619892</td>\n",
       "    </tr>\n",
       "    <tr>\n",
       "      <th>30</th>\n",
       "      <td>2021-01-17</td>\n",
       "      <td>A</td>\n",
       "      <td>6619</td>\n",
       "      <td>809</td>\n",
       "      <td>63020000</td>\n",
       "      <td>12.222390</td>\n",
       "      <td>77898.640297</td>\n",
       "      <td>101880</td>\n",
       "      <td>12210</td>\n",
       "      <td>994350000</td>\n",
       "      <td>11.984688</td>\n",
       "      <td>81437.346437</td>\n",
       "    </tr>\n",
       "    <tr>\n",
       "      <th>31</th>\n",
       "      <td>2021-01-17</td>\n",
       "      <td>B</td>\n",
       "      <td>6546</td>\n",
       "      <td>831</td>\n",
       "      <td>75300000</td>\n",
       "      <td>12.694775</td>\n",
       "      <td>90613.718412</td>\n",
       "      <td>102007</td>\n",
       "      <td>12112</td>\n",
       "      <td>1077590000</td>\n",
       "      <td>11.873695</td>\n",
       "      <td>88968.791281</td>\n",
       "    </tr>\n",
       "    <tr>\n",
       "      <th>32</th>\n",
       "      <td>2021-01-18</td>\n",
       "      <td>A</td>\n",
       "      <td>6511</td>\n",
       "      <td>812</td>\n",
       "      <td>62850000</td>\n",
       "      <td>12.471203</td>\n",
       "      <td>77401.477833</td>\n",
       "      <td>108391</td>\n",
       "      <td>13022</td>\n",
       "      <td>1057200000</td>\n",
       "      <td>12.013913</td>\n",
       "      <td>81185.685763</td>\n",
       "    </tr>\n",
       "    <tr>\n",
       "      <th>33</th>\n",
       "      <td>2021-01-18</td>\n",
       "      <td>B</td>\n",
       "      <td>6603</td>\n",
       "      <td>822</td>\n",
       "      <td>72240000</td>\n",
       "      <td>12.448887</td>\n",
       "      <td>87883.211679</td>\n",
       "      <td>108610</td>\n",
       "      <td>12934</td>\n",
       "      <td>1149830000</td>\n",
       "      <td>11.908664</td>\n",
       "      <td>88899.798979</td>\n",
       "    </tr>\n",
       "    <tr>\n",
       "      <th>34</th>\n",
       "      <td>2021-01-19</td>\n",
       "      <td>A</td>\n",
       "      <td>6582</td>\n",
       "      <td>790</td>\n",
       "      <td>63680000</td>\n",
       "      <td>12.002431</td>\n",
       "      <td>80607.594937</td>\n",
       "      <td>114973</td>\n",
       "      <td>13812</td>\n",
       "      <td>1120880000</td>\n",
       "      <td>12.013255</td>\n",
       "      <td>81152.620909</td>\n",
       "    </tr>\n",
       "    <tr>\n",
       "      <th>35</th>\n",
       "      <td>2021-01-19</td>\n",
       "      <td>B</td>\n",
       "      <td>6562</td>\n",
       "      <td>772</td>\n",
       "      <td>67820000</td>\n",
       "      <td>11.764706</td>\n",
       "      <td>87849.740933</td>\n",
       "      <td>115172</td>\n",
       "      <td>13706</td>\n",
       "      <td>1217650000</td>\n",
       "      <td>11.900462</td>\n",
       "      <td>88840.653728</td>\n",
       "    </tr>\n",
       "    <tr>\n",
       "      <th>36</th>\n",
       "      <td>2021-01-20</td>\n",
       "      <td>A</td>\n",
       "      <td>6533</td>\n",
       "      <td>749</td>\n",
       "      <td>58710000</td>\n",
       "      <td>11.464871</td>\n",
       "      <td>78384.512684</td>\n",
       "      <td>121506</td>\n",
       "      <td>14561</td>\n",
       "      <td>1179590000</td>\n",
       "      <td>11.983770</td>\n",
       "      <td>81010.232814</td>\n",
       "    </tr>\n",
       "    <tr>\n",
       "      <th>37</th>\n",
       "      <td>2021-01-20</td>\n",
       "      <td>B</td>\n",
       "      <td>6685</td>\n",
       "      <td>790</td>\n",
       "      <td>69250000</td>\n",
       "      <td>11.817502</td>\n",
       "      <td>87658.227848</td>\n",
       "      <td>121857</td>\n",
       "      <td>14496</td>\n",
       "      <td>1286900000</td>\n",
       "      <td>11.895911</td>\n",
       "      <td>88776.214128</td>\n",
       "    </tr>\n",
       "    <tr>\n",
       "      <th>38</th>\n",
       "      <td>2021-01-21</td>\n",
       "      <td>A</td>\n",
       "      <td>6750</td>\n",
       "      <td>851</td>\n",
       "      <td>70300000</td>\n",
       "      <td>12.607407</td>\n",
       "      <td>82608.695652</td>\n",
       "      <td>128256</td>\n",
       "      <td>15412</td>\n",
       "      <td>1249890000</td>\n",
       "      <td>12.016592</td>\n",
       "      <td>81098.494679</td>\n",
       "    </tr>\n",
       "    <tr>\n",
       "      <th>39</th>\n",
       "      <td>2021-01-21</td>\n",
       "      <td>B</td>\n",
       "      <td>6555</td>\n",
       "      <td>760</td>\n",
       "      <td>69870000</td>\n",
       "      <td>11.594203</td>\n",
       "      <td>91934.210526</td>\n",
       "      <td>128412</td>\n",
       "      <td>15256</td>\n",
       "      <td>1356770000</td>\n",
       "      <td>11.880510</td>\n",
       "      <td>88933.534347</td>\n",
       "    </tr>\n",
       "    <tr>\n",
       "      <th>40</th>\n",
       "      <td>2021-01-22</td>\n",
       "      <td>A</td>\n",
       "      <td>6587</td>\n",
       "      <td>788</td>\n",
       "      <td>63690000</td>\n",
       "      <td>11.962957</td>\n",
       "      <td>80824.873096</td>\n",
       "      <td>134843</td>\n",
       "      <td>16200</td>\n",
       "      <td>1313580000</td>\n",
       "      <td>12.013972</td>\n",
       "      <td>81085.185185</td>\n",
       "    </tr>\n",
       "    <tr>\n",
       "      <th>41</th>\n",
       "      <td>2021-01-22</td>\n",
       "      <td>B</td>\n",
       "      <td>6659</td>\n",
       "      <td>787</td>\n",
       "      <td>68660000</td>\n",
       "      <td>11.818591</td>\n",
       "      <td>87242.693774</td>\n",
       "      <td>135071</td>\n",
       "      <td>16043</td>\n",
       "      <td>1425430000</td>\n",
       "      <td>11.877457</td>\n",
       "      <td>88850.589042</td>\n",
       "    </tr>\n",
       "    <tr>\n",
       "      <th>42</th>\n",
       "      <td>2021-01-23</td>\n",
       "      <td>A</td>\n",
       "      <td>6698</td>\n",
       "      <td>843</td>\n",
       "      <td>70950000</td>\n",
       "      <td>12.585847</td>\n",
       "      <td>84163.701068</td>\n",
       "      <td>141541</td>\n",
       "      <td>17043</td>\n",
       "      <td>1384530000</td>\n",
       "      <td>12.041034</td>\n",
       "      <td>81237.458194</td>\n",
       "    </tr>\n",
       "    <tr>\n",
       "      <th>43</th>\n",
       "      <td>2021-01-23</td>\n",
       "      <td>B</td>\n",
       "      <td>6633</td>\n",
       "      <td>805</td>\n",
       "      <td>68930000</td>\n",
       "      <td>12.136288</td>\n",
       "      <td>85627.329193</td>\n",
       "      <td>141704</td>\n",
       "      <td>16848</td>\n",
       "      <td>1494360000</td>\n",
       "      <td>11.889573</td>\n",
       "      <td>88696.581197</td>\n",
       "    </tr>\n",
       "    <tr>\n",
       "      <th>44</th>\n",
       "      <td>2021-01-24</td>\n",
       "      <td>A</td>\n",
       "      <td>3766</td>\n",
       "      <td>444</td>\n",
       "      <td>33250000</td>\n",
       "      <td>11.789697</td>\n",
       "      <td>74887.387387</td>\n",
       "      <td>145307</td>\n",
       "      <td>17487</td>\n",
       "      <td>1417780000</td>\n",
       "      <td>12.034520</td>\n",
       "      <td>81076.228055</td>\n",
       "    </tr>\n",
       "    <tr>\n",
       "      <th>45</th>\n",
       "      <td>2021-01-24</td>\n",
       "      <td>B</td>\n",
       "      <td>3677</td>\n",
       "      <td>442</td>\n",
       "      <td>38650000</td>\n",
       "      <td>12.020669</td>\n",
       "      <td>87443.438914</td>\n",
       "      <td>145381</td>\n",
       "      <td>17290</td>\n",
       "      <td>1533010000</td>\n",
       "      <td>11.892888</td>\n",
       "      <td>88664.545980</td>\n",
       "    </tr>\n",
       "  </tbody>\n",
       "</table>\n",
       "</div>"
      ],
      "text/plain": [
       "         date group  count_visits  count_purchases  sum_price  conversion  \\\n",
       "0  2021-01-02     A          2854              359   29410000   12.578837   \n",
       "1  2021-01-02     B          2861              345   29660000   12.058721   \n",
       "2  2021-01-03     A          6596              748   62000000   11.340206   \n",
       "3  2021-01-03     B          6619              754   65960000   11.391449   \n",
       "4  2021-01-04     A          6566              799   64250000   12.168748   \n",
       "5  2021-01-04     B          6536              764   68030000   11.689106   \n",
       "6  2021-01-05     A          6433              790   64550000   12.280429   \n",
       "7  2021-01-05     B          6511              749   63550000   11.503609   \n",
       "8  2021-01-06     A          6606              764   63410000   11.565244   \n",
       "9  2021-01-06     B          6751              838   75020000   12.412976   \n",
       "10 2021-01-07     A          6579              795   67290000   12.083903   \n",
       "11 2021-01-07     B          6616              767   67170000   11.593108   \n",
       "12 2021-01-08     A          6687              798   65380000   11.933603   \n",
       "13 2021-01-08     B          6714              812   71270000   12.094132   \n",
       "14 2021-01-09     A          6633              794   65610000   11.970451   \n",
       "15 2021-01-09     B          6628              784   71410000   11.828606   \n",
       "16 2021-01-10     A          6659              759   58950000   11.398108   \n",
       "17 2021-01-10     B          6701              846   78080000   12.624981   \n",
       "18 2021-01-11     A          6699              797   58760000   11.897298   \n",
       "19 2021-01-11     B          6679              770   66960000   11.528672   \n",
       "20 2021-01-12     A          6540              795   68460000   12.155963   \n",
       "21 2021-01-12     B          6635              807   70560000   12.162773   \n",
       "22 2021-01-13     A          6564              764   63590000   11.639244   \n",
       "23 2021-01-13     B          6495              720   65910000   11.085450   \n",
       "24 2021-01-14     A          6543              825   65890000   12.608895   \n",
       "25 2021-01-14     B          6608              792   68990000   11.985472   \n",
       "26 2021-01-15     A          6701              806   67570000   12.028056   \n",
       "27 2021-01-15     B          6563              747   69160000   11.381990   \n",
       "28 2021-01-16     A          6601              808   66210000   12.240570   \n",
       "29 2021-01-16     B          6544              786   70560000   12.011002   \n",
       "30 2021-01-17     A          6619              809   63020000   12.222390   \n",
       "31 2021-01-17     B          6546              831   75300000   12.694775   \n",
       "32 2021-01-18     A          6511              812   62850000   12.471203   \n",
       "33 2021-01-18     B          6603              822   72240000   12.448887   \n",
       "34 2021-01-19     A          6582              790   63680000   12.002431   \n",
       "35 2021-01-19     B          6562              772   67820000   11.764706   \n",
       "36 2021-01-20     A          6533              749   58710000   11.464871   \n",
       "37 2021-01-20     B          6685              790   69250000   11.817502   \n",
       "38 2021-01-21     A          6750              851   70300000   12.607407   \n",
       "39 2021-01-21     B          6555              760   69870000   11.594203   \n",
       "40 2021-01-22     A          6587              788   63690000   11.962957   \n",
       "41 2021-01-22     B          6659              787   68660000   11.818591   \n",
       "42 2021-01-23     A          6698              843   70950000   12.585847   \n",
       "43 2021-01-23     B          6633              805   68930000   12.136288   \n",
       "44 2021-01-24     A          3766              444   33250000   11.789697   \n",
       "45 2021-01-24     B          3677              442   38650000   12.020669   \n",
       "\n",
       "      mean_check  cum_count_visits  cum_count_purchases  cum_sum_price  \\\n",
       "0   81922.005571              2854                  359       29410000   \n",
       "1   85971.014493              2861                  345       29660000   \n",
       "2   82887.700535              9450                 1107       91410000   \n",
       "3   87480.106101              9480                 1099       95620000   \n",
       "4   80413.016270             16016                 1906      155660000   \n",
       "5   89044.502618             16016                 1863      163650000   \n",
       "6   81708.860759             22449                 2696      220210000   \n",
       "7   84846.461949             22527                 2612      227200000   \n",
       "8   82997.382199             29055                 3460      283620000   \n",
       "9   89522.673031             29278                 3450      302220000   \n",
       "10  84641.509434             35634                 4255      350910000   \n",
       "11  87574.967405             35894                 4217      369390000   \n",
       "12  81929.824561             42321                 5053      416290000   \n",
       "13  87770.935961             42608                 5029      440660000   \n",
       "14  82632.241814             48954                 5847      481900000   \n",
       "15  91084.183673             49236                 5813      512070000   \n",
       "16  77667.984190             55613                 6606      540850000   \n",
       "17  92293.144208             55937                 6659      590150000   \n",
       "18  73726.474279             62312                 7403      599610000   \n",
       "19  86961.038961             62616                 7429      657110000   \n",
       "20  86113.207547             68852                 8198      668070000   \n",
       "21  87434.944238             69251                 8236      727670000   \n",
       "22  83232.984293             75416                 8962      731660000   \n",
       "23  91541.666667             75746                 8956      793580000   \n",
       "24  79866.666667             81959                 9787      797550000   \n",
       "25  87108.585859             82354                 9748      862570000   \n",
       "26  83833.746898             88660                10593      865120000   \n",
       "27  92583.668005             88917                10495      931730000   \n",
       "28  81943.069307             95261                11401      931330000   \n",
       "29  89770.992366             95461                11281     1002290000   \n",
       "30  77898.640297            101880                12210      994350000   \n",
       "31  90613.718412            102007                12112     1077590000   \n",
       "32  77401.477833            108391                13022     1057200000   \n",
       "33  87883.211679            108610                12934     1149830000   \n",
       "34  80607.594937            114973                13812     1120880000   \n",
       "35  87849.740933            115172                13706     1217650000   \n",
       "36  78384.512684            121506                14561     1179590000   \n",
       "37  87658.227848            121857                14496     1286900000   \n",
       "38  82608.695652            128256                15412     1249890000   \n",
       "39  91934.210526            128412                15256     1356770000   \n",
       "40  80824.873096            134843                16200     1313580000   \n",
       "41  87242.693774            135071                16043     1425430000   \n",
       "42  84163.701068            141541                17043     1384530000   \n",
       "43  85627.329193            141704                16848     1494360000   \n",
       "44  74887.387387            145307                17487     1417780000   \n",
       "45  87443.438914            145381                17290     1533010000   \n",
       "\n",
       "    cum_conversion  cum_mean_check  \n",
       "0        12.578837    81922.005571  \n",
       "1        12.058721    85971.014493  \n",
       "2        11.714286    82574.525745  \n",
       "3        11.592827    87006.369427  \n",
       "4        11.900599    81668.415530  \n",
       "5        11.632118    87842.190016  \n",
       "6        12.009444    81680.267062  \n",
       "7        11.594975    86983.154671  \n",
       "8        11.908449    81971.098266  \n",
       "9        11.783592    87600.000000  \n",
       "10       11.940843    82470.035253  \n",
       "11       11.748482    87595.447000  \n",
       "12       11.939699    82384.721947  \n",
       "13       11.802948    87623.782064  \n",
       "14       11.943866    82418.334188  \n",
       "15       11.806402    88090.486840  \n",
       "16       11.878518    81872.540115  \n",
       "17       11.904464    88624.418081  \n",
       "18       11.880537    80995.542348  \n",
       "19       11.864380    88452.012384  \n",
       "20       11.906698    81491.827275  \n",
       "21       11.892969    88352.355512  \n",
       "22       11.883420    81640.258871  \n",
       "23       11.823727    88608.753908  \n",
       "24       11.941337    81490.753040  \n",
       "25       11.836705    88486.869101  \n",
       "26       11.947891    81669.026716  \n",
       "27       11.803142    88778.465936  \n",
       "28       11.968172    81688.448382  \n",
       "29       11.817391    88847.619892  \n",
       "30       11.984688    81437.346437  \n",
       "31       11.873695    88968.791281  \n",
       "32       12.013913    81185.685763  \n",
       "33       11.908664    88899.798979  \n",
       "34       12.013255    81152.620909  \n",
       "35       11.900462    88840.653728  \n",
       "36       11.983770    81010.232814  \n",
       "37       11.895911    88776.214128  \n",
       "38       12.016592    81098.494679  \n",
       "39       11.880510    88933.534347  \n",
       "40       12.013972    81085.185185  \n",
       "41       11.877457    88850.589042  \n",
       "42       12.041034    81237.458194  \n",
       "43       11.889573    88696.581197  \n",
       "44       12.034520    81076.228055  \n",
       "45       11.892888    88664.545980  "
      ]
     },
     "execution_count": 125,
     "metadata": {},
     "output_type": "execute_result"
    }
   ],
   "source": [
    "data3"
   ]
  },
  {
   "cell_type": "markdown",
   "id": "c252b8ba-371b-4795-8fc3-a62317e9ba39",
   "metadata": {},
   "source": [
    "Постройте кумулятивные графики конверсии и среднего чека в каждой группе по дням. Сделайте выводы. Можно ли назвать A/B-тест завершенным - стабилизировались ли значения метрик во времени? Как соотносятся кумулятивные показатели в каждой группе?"
   ]
  },
  {
   "cell_type": "code",
   "execution_count": 126,
   "id": "27e23d20-7ed6-4a26-973d-6d0320b81adb",
   "metadata": {},
   "outputs": [
    {
     "data": {
      "image/png": "[encoded data removed]",
      "text/plain": [
       "<Figure size 576x288 with 1 Axes>"
      ]
     },
     "metadata": {
      "needs_background": "light"
     },
     "output_type": "display_data"
    }
   ],
   "source": [
    "# ваш код здесь\n",
    "fig = plt.figure(figsize=(8, 4))\n",
    "ax = fig.add_axes([1, 1, 1, 1])\n",
    "# строим lineplot для кумулятивной конверсии во времени в каждой группе\n",
    "sns.lineplot(x='date', y='cum_conversion', data=data3[data3['group']=='A'], label='a',  ax=ax)\n",
    "sns.lineplot(x='date', y='cum_conversion', data=data3[data3['group']=='B'], label='b', ax=ax)\n",
    "# задаём подпись к графику\n",
    "ax.set_title('График кумулятивной конверсии по дням')\n",
    "# задаём поворот меток на оси абсцисс\n",
    "ax.xaxis.set_tick_params(rotation = 45)\n",
    "# задаём отображение сетки\n",
    "ax.grid(True)"
   ]
  },
  {
   "cell_type": "code",
   "execution_count": 128,
   "id": "02f5d150",
   "metadata": {},
   "outputs": [
    {
     "data": {
      "image/png": "[encoded data removed]",
      "text/plain": [
       "<Figure size 576x288 with 1 Axes>"
      ]
     },
     "metadata": {
      "needs_background": "light"
     },
     "output_type": "display_data"
    }
   ],
   "source": [
    "# ваш код здесь\n",
    "fig = plt.figure(figsize=(8, 4))\n",
    "ax = fig.add_axes([1, 1, 1, 1])\n",
    "# строим lineplot для кумулятивной конверсии во времени в каждой группе\n",
    "sns.lineplot(x='date', y='cum_mean_check', data=data3[data3['group']=='A'], label='a',  ax=ax)\n",
    "sns.lineplot(x='date', y='cum_mean_check', data=data3[data3['group']=='B'], label='b', ax=ax)\n",
    "# задаём подпись к графику\n",
    "ax.set_title('График кумулятивного среднего чека по дням')\n",
    "# задаём поворот меток на оси абсцисс\n",
    "ax.xaxis.set_tick_params(rotation = 45)\n",
    "# задаём отображение сетки\n",
    "ax.grid(True)"
   ]
  },
  {
   "cell_type": "markdown",
   "id": "f645f8e5-ad16-4b3b-8228-fbdeeb286833",
   "metadata": {},
   "source": [
    "Значение конверсии и среднегоо чека стабилизировались со временемю В группе В конверсия почти все время ниже, чем в группе А. Со средним чекм наооброт. Выводы поока сделать нельзя, непоонятно насклько эта разница статистиески значима."
   ]
  },
  {
   "cell_type": "markdown",
   "id": "2ecaa382-56e2-47f4-b086-24b4742570a3",
   "metadata": {
    "tags": []
   },
   "source": [
    "## **Задание 7.10.**\n",
    "\n",
    "Настало время переходить к проверке статистической значимости разницы между метриками в группах. Начнем с конверсии.\n",
    "\n",
    "Какой тест вы примените для проверки гипотезы о равенстве конверсий в группах?\n",
    "\n",
    "Проведите тестирование при следующих нулевой и альтернативной гипотезе:\n",
    "* $H_0$: Конверсии в группах А и B равны; \n",
    "* $H_1$: Конверсия в группе А больше чем конверсия в группе B;\n",
    "\n",
    "Вычислите p-value вашего теста для конверсий в группах А и B. Сравните полученное значение p-value с уровнем значимости $\\alpha$=0.05. "
   ]
  },
  {
   "cell_type": "code",
   "execution_count": 130,
   "id": "9dd1f6fd-2fa0-4a2f-8181-dbed4c302bce",
   "metadata": {},
   "outputs": [
    {
     "name": "stdout",
     "output_type": "stream",
     "text": [
      "p=0.412\n",
      "Данные распределены нормально\n",
      "\n",
      "*** Результаты независимого Z-теста ***\n",
      "0.22 > 0.05. Мы не можем отвергнуть нулевую гипотезу. Конверсии в группах А и B равны\n"
     ]
    }
   ],
   "source": [
    "# ваш код здесь$\n",
    "H0 = 'Данные распределены нормально'\n",
    "Ha = 'Данные не распределены нормально (мы отвергаем H0)'\n",
    "H_0='Конверсии в группах А и B равны' \n",
    "H_1='Конверсия в группе А больше чем конверсия в группе B'\n",
    "alpha = 0.05\n",
    "from scipy.stats import shapiro\n",
    "data4= data3.pivot_table(\n",
    "    values='conversion', \n",
    "    index='date', \n",
    "    columns= 'group',\n",
    "    #aggfunc='sum',\n",
    "    fill_value=0\n",
    ")\n",
    "_, p = shapiro(data4)\n",
    "print('p=%.3f' % p)\n",
    "\n",
    "# Интерпретация \n",
    "\n",
    "if p > alpha:\n",
    "\tprint(H0)\n",
    "else:\n",
    "\tprint(Ha)\n",
    " \n",
    "from statsmodels.stats.weightstats import ztest\n",
    "def z_test(df):\n",
    "    print('\\n' + \"*** Результаты независимого Z-теста ***\")\n",
    "    test_results = ztest(data4['A'], data4['B'])\n",
    "\n",
    "    p = round(test_results[1],2)\n",
    "\n",
    "    if p>alpha:\n",
    "        print(f\"{p} > {alpha}. Мы не можем отвергнуть нулевую гипотезу. {H_0}\")\n",
    "    else:\n",
    "        print(f\"{p} <= {alpha}. Мы отвергаем нулевую гипотезу. {H_1}\")\n",
    "\n",
    "z_test(data4)"
   ]
  },
  {
   "cell_type": "markdown",
   "id": "da794b48-80e3-47af-aceb-084a1862c86b",
   "metadata": {},
   "source": [
    "Приведите свои выводы по результатам проведенного статистического теста. Есть ли статистическая разница между конверсиями в группах А и B?"
   ]
  },
  {
   "cell_type": "markdown",
   "id": "75dddb06-389d-4d65-92c7-425efa28e51a",
   "metadata": {},
   "source": [
    "Разница между конверсиями в рамках статистиеской погрешности."
   ]
  },
  {
   "cell_type": "markdown",
   "id": "32c5a1af-8cb2-4f3c-a126-410b70fb3ff3",
   "metadata": {
    "tags": []
   },
   "source": [
    "## **Задание 7.11.**\n",
    "Убедитесь в своих рассуждениях, построив 95%-ый доверительный интервал для конверсий и разницы между ними. Используйте $z_{крит}$ в своих расчетах\n",
    "\n",
    "Укажите нижнюю и верхнюю границы доверительных интервалов. Границы приведите в процентах и округлите до 2 знака после запятой. Например: нижняя граница 89.24%, верхняя граница 91.25%."
   ]
  },
  {
   "cell_type": "code",
   "execution_count": 155,
   "id": "e9decb7d-ff5e-40a6-8b71-63627c4ef64a",
   "metadata": {},
   "outputs": [
    {
     "name": "stdout",
     "output_type": "stream",
     "text": [
      "Доверительный интервал: (11.884846953938554, 12.201792772600994)\n",
      "Доверительный интервал: (11.730170569137433, 12.065278942481937)\n",
      "Доверительный интервал: (-0.07028065849119411, 0.3614708734113714)\n"
     ]
    }
   ],
   "source": [
    "# ваш код здесь\n",
    "def confidence_interval(n,x_mean,sigma,gamma):\n",
    "    # n размер выборки\n",
    "    # x_mean выборочное среднее\n",
    "    # sigma истинное стандартное отклонение\n",
    "    # gamma уровень надёжности\n",
    "    alpha = 1 - gamma # уровень значимости\n",
    "    from scipy.stats import norm\n",
    "    z_crit = -norm.ppf(alpha/2) # z критическое\n",
    "    eps = z_crit * sigma/(n ** 0.5) #погрешность\n",
    "    lower_bound = (x_mean - eps) # левая (нижняя) граница\n",
    "    upper_bound = (x_mean + eps) # правая (верхняя) граница\n",
    "    confidence_interval = (lower_bound, upper_bound) # создаём кортеж из округлённых границ интервала\n",
    "    print('Доверительный интервал: {}'.format(confidence_interval)) # выводим результат\n",
    "\n",
    "confidence_interval(data4['A'].count(),data4['A'].mean(),data4['A'].std(),0.95)\n",
    "confidence_interval(data4['B'].count(),data4['B'].mean(),data4['B'].std(),0.95)\n",
    "\n",
    "data4['diff']=data4['A']-data4['B']\n",
    "confidence_interval(data4['diff'].count(),data4['diff'].mean(),data4['diff'].std(),0.95)"
   ]
  },
  {
   "cell_type": "markdown",
   "id": "9332372d-66b2-45e9-a74c-f5d8b1d44afb",
   "metadata": {},
   "source": [
    "Проинтерпретируйте построенные доверительные интервалы для конверсий в группах. Есть ли перекрытие между доверительными интервалами для групп? Есть ли статистическая разница между конверсиями в группах А и B?"
   ]
  },
  {
   "cell_type": "markdown",
   "id": "752c337e",
   "metadata": {},
   "source": [
    "Доверительный интервал группы А включен в доверительный интервалгруппы В. Так как доверительный интервал разницы конверсий включает 0 и его небольшую окрестность, кажется что статистической разницы между конверсиями нет."
   ]
  },
  {
   "cell_type": "markdown",
   "id": "73c54883-b919-4889-bbf2-e1bdeb0b7055",
   "metadata": {},
   "source": [
    "## **Задание 7.12.**\n",
    "\n",
    "Ранее мы построили таблицу с ежедневными показателями. Теперь она нам снова понадобится, так как нас интересует ежедневный средний чек.\n",
    "\n",
    "Проверьте гипотезу о нормальности распределения ежедневного среднего чека в каждой из групп тестирования. \n",
    "\n",
    "* Какой тест вы примените  для проверки гипотезы о нормальности распределения ежедневного среднего чека?\n",
    "* Как будут звучать нулевая и альтернативная гипотезы?\n",
    "* Каковы результаты статистического теста с уровнем значимости $\\alpha$ =0.05?"
   ]
  },
  {
   "cell_type": "code",
   "execution_count": 166,
   "id": "898041ae-de7e-4b74-975e-111d494fbb82",
   "metadata": {},
   "outputs": [
    {
     "name": "stdout",
     "output_type": "stream",
     "text": [
      "p=0.350\n",
      "Данные распределены нормально\n"
     ]
    }
   ],
   "source": [
    "# ваш код здесь\n",
    "# ваш код здесь$\n",
    "H0 = 'Данные распределены нормально'\n",
    "Ha = 'Данные не распределены нормально (мы отвергаем H0)'\n",
    "\n",
    "\n",
    "alpha = 0.05\n",
    "from scipy.stats import shapiro\n",
    "data4= data3.pivot_table(\n",
    "    values='mean_check', \n",
    "    index='date', \n",
    "    columns= 'group',\n",
    "    #aggfunc='sum',\n",
    "    fill_value=0\n",
    ")\n",
    "_, p = shapiro(data4)\n",
    "print('p=%.3f' % p)\n",
    "\n",
    "# Интерпретация \n",
    "if p > alpha:\n",
    "\tprint(H0)\n",
    "else:\n",
    "\tprint(Ha)\n",
    " \n",
    "\n"
   ]
  },
  {
   "cell_type": "markdown",
   "id": "cbddecf9-4d15-4ff1-84e9-46c4d98fc1e0",
   "metadata": {
    "tags": []
   },
   "source": [
    "## **Задание 7.13.**\n",
    "Настало время сравнить варианты дизайна страницы по метрике среднего чека. \n",
    "\n",
    "Какой тест вы примените для проверки гипотезы о равенстве средних чеков по дням в группах?\n",
    "\n",
    "Проведите тестирование при следующих нулевой и альтернативной гипотезе:\n",
    "* $H_0$: Ежедневные средние чеки в группах А и B равны; \n",
    "* $H_1$: Ежедневный средний чек в группе А меньше чем в группе B;\n",
    "\n",
    "Вычислите p-value вашего теста для ежедневного среднего чека в группах А и B. Сравните полученное значение p-value с уровнем значимости $\\alpha$ =0.05. "
   ]
  },
  {
   "cell_type": "code",
   "execution_count": 167,
   "id": "05d43f23-2c2d-4795-bb96-1ffbfe81c391",
   "metadata": {},
   "outputs": [
    {
     "name": "stdout",
     "output_type": "stream",
     "text": [
      "\n",
      "*** Результаты независимого T-теста ***\n",
      "0.0 <= 0.05. Мы отвергаем нулевую гипотезу. Ежедневный средний чек в группе А меньше чем в группе B\n"
     ]
    }
   ],
   "source": [
    "# ваш код здесь\n",
    "H_0= 'Ежедневные средние чеки в группах А и B равны'\n",
    "H_1= 'Ежедневный средний чек в группе А меньше чем в группе B'\n",
    "from scipy.stats import ttest_ind\n",
    "def t_test(df):\n",
    "    print('\\n' + \"*** Результаты независимого T-теста ***\")\n",
    "    test_results = ttest_ind(df['A'], df['B'], equal_var=True)\n",
    "\n",
    "    p = round(test_results[1],2)\n",
    "\n",
    "    if p>alpha:\n",
    "        print(f\"{p} > {alpha}. Мы не можем отвергнуть нулевую гипотезу. {H_0}\")\n",
    "    else:\n",
    "        print(f\"{p} <= {alpha}. Мы отвергаем нулевую гипотезу. {H_1}\")\n",
    "\n",
    "t_test(data4)\n"
   ]
  },
  {
   "cell_type": "markdown",
   "id": "8534ab25-68b8-48f7-b2c1-ef1b72d8a767",
   "metadata": {},
   "source": [
    " Приведите свои выводы по проведенному статистическому тесту. Есть ли статистическая разница между ежедневными средними чеками в группах А и B?"
   ]
  },
  {
   "cell_type": "markdown",
   "id": "1f44ffe2",
   "metadata": {},
   "source": [
    "Есть статистиеская разница между средними чеками в группах. В группе В он больше."
   ]
  },
  {
   "cell_type": "markdown",
   "id": "5e46c9a6-a943-48b4-ad72-935337469613",
   "metadata": {
    "tags": []
   },
   "source": [
    "## **Задание 7.14.**\n",
    "\n",
    "Постройте 95%-ый доверительный интервал для среднего чека в каждой группе. Так как выборка средних чеков небольшая, используйте  $t_{крит}$ в своих расчетах.\n",
    "\n",
    "Укажите нижнюю границу доверительного интервала для истинного среднего чека каждой из групп. Ответ приведите в процентах и округлите до целого."
   ]
  },
  {
   "cell_type": "code",
   "execution_count": 171,
   "id": "480430db-ffae-4aad-8e22-f5c70d4800b8",
   "metadata": {},
   "outputs": [
    {
     "name": "stdout",
     "output_type": "stream",
     "text": [
      "Доверительный интервал: (79630.35138233882, 82308.21881567157)\n",
      "Доверительный интервал: (87625.82583631018, 89525.6051909103)\n",
      "Доверительный интервал: (-9192.330260127032, -6020.5305690830655)\n"
     ]
    }
   ],
   "source": [
    "def confidence_interval(n,x_mean,sigma,gamma):\n",
    "    # n размер выборки\n",
    "    # x_mean выборочное среднее\n",
    "    # sigma истинное стандартное отклонение\n",
    "    # gamma уровень надёжности\n",
    "    alpha = 1 - gamma # уровень значимости\n",
    "    from scipy.stats import norm\n",
    "    z_crit = -t.ppf(alpha/2,n-1) # z критическое\n",
    "    eps = z_crit * sigma/(n ** 0.5) #погрешность\n",
    "    lower_bound = (x_mean - eps) # левая (нижняя) граница\n",
    "    upper_bound = (x_mean + eps) # правая (верхняя) граница\n",
    "    confidence_interval = (lower_bound, upper_bound) # создаём кортеж из округлённых границ интервала\n",
    "    print('Доверительный интервал: {}'.format(confidence_interval)) # выводим результат\n",
    "# ваш код здесь\n",
    "confidence_interval(data4['A'].count(),data4['A'].mean(),data4['A'].std(),0.95)\n",
    "confidence_interval(data4['B'].count(),data4['B'].mean(),data4['B'].std(),0.95)\n",
    "\n",
    "data4['diff']=data4['A']-data4['B']\n",
    "confidence_interval(data4['diff'].count(),data4['diff'].mean(),data4['diff'].std(),0.95)"
   ]
  },
  {
   "cell_type": "markdown",
   "id": "74a78db8-48f7-41d2-94cb-faefb30b8f76",
   "metadata": {},
   "source": [
    "Проинтерпретируйте построенные доверительные интервалы для ежедневных средних чеков в группах. Есть ли между ними пересечения?"
   ]
  },
  {
   "cell_type": "markdown",
   "id": "2ccebfca",
   "metadata": {},
   "source": [
    "Средний чек в группе В выше, этостатистически значимо. Доверительные интервалы групп не пересекаются, доверительный интервал разницы не содержит 0. "
   ]
  },
  {
   "cell_type": "markdown",
   "id": "c078852f-892f-42ed-8d78-73edf8eb1f5e",
   "metadata": {
    "tags": []
   },
   "source": [
    "## **Сделайте общий вывод по результатам A/B-теста**\n",
    "\n",
    "Какой варианта дизайна посадочной страницы является более эффективным в комплексе по метрикам конверсии и среднего чека и почему? "
   ]
  },
  {
   "cell_type": "markdown",
   "id": "8ab97f4e",
   "metadata": {},
   "source": [
    "Дизайна посадочной страницы В является более эффективным при равной конверсии групп, средний ччек группы В статистически больше, значит что-то в дизайне вызывает желание больше траить на отдых."
   ]
  }
 ],
 "metadata": {
  "kernelspec": {
   "display_name": "Python 3.9.11 64-bit",
   "language": "python",
   "name": "python3"
  },
  "language_info": {
   "codemirror_mode": {
    "name": "ipython",
    "version": 3
   },
   "file_extension": ".py",
   "mimetype": "text/x-python",
   "name": "python",
   "nbconvert_exporter": "python",
   "pygments_lexer": "ipython3",
   "version": "3.9.11"
  },
  "vscode": {
   "interpreter": {
    "hash": "aee8b7b246df8f9039afb4144a1f6fd8d2ca17a180786b69acc140d282b71a49"
   }
  }
 },
 "nbformat": 4,
 "nbformat_minor": 5
}
